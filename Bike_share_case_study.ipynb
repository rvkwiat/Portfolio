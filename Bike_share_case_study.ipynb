{
 "cells": [
  {
   "cell_type": "markdown",
   "metadata": {},
   "source": [
    "# Case Study: How Does a Bike-Share Navigate Speedy Success?"
   ]
  },
  {
   "cell_type": "markdown",
   "metadata": {},
   "source": [
    "Welcome to the Cyclistic bike-share analysis case study! \n",
    "Here is my first real work as a junior data analyst that I can show to everyone. I will try to analyze the dataset provided to answer business questions. I’ll follow the steps of the data analysis process which are: ask, prepare, process, analyze and share. "
   ]
  },
  {
   "cell_type": "markdown",
   "metadata": {},
   "source": [
    "## Scenario"
   ]
  },
  {
   "cell_type": "markdown",
   "metadata": {},
   "source": [
    "As a junior data analyst, I’m working in the marketing analyst team at Cyclistic, a bike-share company in Chicago. The director of marketing believes the company’s future success depends on maximizing the number of annual memberships. Therefore, the team wants to understand how casual riders and annual members use Cyclistic bikes differently. From these insights, the team will design a new marketing strategy to convert casual riders into annual members. But first, Cyclistic executives must approve my recommendations, so they must be backed up with compelling data insights and professional data visualizations."
   ]
  },
  {
   "cell_type": "markdown",
   "metadata": {},
   "source": [
    "Cyclistic: A bike-share program that features more than 5,800 bicycles and 600 docking stations. Cyclistic sets itself apart by also offering reclining bikes, hand tricycles, and cargo bikes, making bike-share more inclusive to people with disabilities and riders who can’t use a standard two-wheeled bike. The majority of riders opt for traditional bikes; about 8% of riders use the assistive options. Cyclistic users are more likely to ride for leisure, but about 30% use them to commute to work each day."
   ]
  },
  {
   "cell_type": "markdown",
   "metadata": {},
   "source": [
    "#### About the company:"
   ]
  },
  {
   "cell_type": "markdown",
   "metadata": {},
   "source": [
    "In 2016, Cyclistic launched a successful bike-share offering. Since then, the program has grown to a fleet of 5,824 bicycles that are geotracked and locked into a network of 692 stations across Chicago. The bikes can be unlocked from one station and returned to any other station in the system anytime.\n",
    "Cyclistic’s finance analysts have concluded that annual members are much more profitable than casual riders. Although the pricing flexibility helps Cyclistic attract more customer.\n",
    "The goal is: : Design marketing strategies aimed at converting casual riders into annual members. In order to do that, however, the marketing analyst team needs to better understand how annual members and casual riders differ, why casual riders would buy a membership, and how digital media could affect their marketing tactics."
   ]
  },
  {
   "cell_type": "markdown",
   "metadata": {},
   "source": [
    "Three questions will guide the future marketing program:\n",
    "1. How do annual members and casual riders use Cyclistic bikes differently? \n",
    "2. Why would casual riders buy Cyclistic annual memberships? \n",
    "3. How can Cyclistic use digital media to influence casual riders to become members?"
   ]
  },
  {
   "cell_type": "markdown",
   "metadata": {},
   "source": [
    "Reason to use Python instead of something else:\n",
    "Python is very polyvalent and can do everything with the same programming language. This is the first reason that I have decided to use Python instead of SQL. The second reason is the number of rows inside the dataset. This dataset is about 3.4 million rows. It means it can’t be handled by Excel. \n",
    "The third reason is that everyone can look at my work. How did I clean the data, what was important for me? It is much easier for someone else to look at my work.\n"
   ]
  },
  {
   "cell_type": "markdown",
   "metadata": {},
   "source": [
    "#### Data Preparation"
   ]
  },
  {
   "cell_type": "markdown",
   "metadata": {},
   "source": [
    "I have used Cyclistic’s historical trip data to analyze and identify trends. (https://divvy-tripdata.s3.amazonaws.com/index.html) I took the last 12 months to perform an analyst month by month and day by day. It is public and can be used to explore how different riders are using Cyclistic bikes. However, riders’ personally identifiable information has been removed from this dataset."
   ]
  },
  {
   "cell_type": "code",
   "execution_count": 1,
   "metadata": {},
   "outputs": [],
   "source": [
    "import pandas as pd\n",
    "import numpy as np\n",
    "import matplotlib as plt\n",
    "import seaborn as sns\n",
    "import sweetviz as sv\n",
    "import datetime"
   ]
  },
  {
   "cell_type": "code",
   "execution_count": 2,
   "metadata": {},
   "outputs": [],
   "source": [
    "df420 = pd.read_csv(r'C:\\Users\\roman\\OneDrive\\Bureau\\python_data\\ride_bicycle_data\\2020_04_bicycle.csv')\n",
    "df520 = pd.read_csv(r'C:\\Users\\roman\\OneDrive\\Bureau\\python_data\\ride_bicycle_data\\2020_05_bicycle.csv')\n",
    "df620 = pd.read_csv(r'C:\\Users\\roman\\OneDrive\\Bureau\\python_data\\ride_bicycle_data\\2020_06_bicycle.csv')\n",
    "df720 = pd.read_csv(r'C:\\Users\\roman\\OneDrive\\Bureau\\python_data\\ride_bicycle_data\\2020_07_bicycle.csv')\n",
    "df820 = pd.read_csv(r'C:\\Users\\roman\\OneDrive\\Bureau\\python_data\\ride_bicycle_data\\2020_08_bicycle.csv')\n",
    "df920 = pd.read_csv(r'C:\\Users\\roman\\OneDrive\\Bureau\\python_data\\ride_bicycle_data\\2020_09_bicycle.csv')\n",
    "df1020 = pd.read_csv(r'C:\\Users\\roman\\OneDrive\\Bureau\\python_data\\ride_bicycle_data\\2020_10_bicycle.csv')\n",
    "df1120 = pd.read_csv(r'C:\\Users\\roman\\OneDrive\\Bureau\\python_data\\ride_bicycle_data\\2020_11_bicycle.csv')\n",
    "df1220 = pd.read_csv(r'C:\\Users\\roman\\OneDrive\\Bureau\\python_data\\ride_bicycle_data\\2020_12_bicycle.csv')\n",
    "df121 = pd.read_csv(r'C:\\Users\\roman\\OneDrive\\Bureau\\python_data\\ride_bicycle_data\\2021_01_bicycle.csv')\n",
    "df221 = pd.read_csv(r'C:\\Users\\roman\\OneDrive\\Bureau\\python_data\\ride_bicycle_data\\2021_02_bicycle.csv')\n",
    "df321 = pd.read_csv(r'C:\\Users\\roman\\OneDrive\\Bureau\\python_data\\ride_bicycle_data\\2021_03_bicycle.csv')"
   ]
  },
  {
   "cell_type": "code",
   "execution_count": 3,
   "metadata": {},
   "outputs": [],
   "source": [
    "df = pd.concat([df420, df520, df620, df720, df820, df920,\n",
    "                df1020, df1120, df1220, df121, df221,\n",
    "                df321], sort=False)"
   ]
  },
  {
   "cell_type": "markdown",
   "metadata": {},
   "source": [
    "#### Cleaning process"
   ]
  },
  {
   "cell_type": "code",
   "execution_count": 4,
   "metadata": {},
   "outputs": [
    {
     "data": {
      "text/html": [
       "<div>\n",
       "<style scoped>\n",
       "    .dataframe tbody tr th:only-of-type {\n",
       "        vertical-align: middle;\n",
       "    }\n",
       "\n",
       "    .dataframe tbody tr th {\n",
       "        vertical-align: top;\n",
       "    }\n",
       "\n",
       "    .dataframe thead th {\n",
       "        text-align: right;\n",
       "    }\n",
       "</style>\n",
       "<table border=\"1\" class=\"dataframe\">\n",
       "  <thead>\n",
       "    <tr style=\"text-align: right;\">\n",
       "      <th></th>\n",
       "      <th>ride_id</th>\n",
       "      <th>rideable_type</th>\n",
       "      <th>started_at</th>\n",
       "      <th>ended_at</th>\n",
       "      <th>start_station_name</th>\n",
       "      <th>start_station_id</th>\n",
       "      <th>end_station_name</th>\n",
       "      <th>end_station_id</th>\n",
       "      <th>start_lat</th>\n",
       "      <th>start_lng</th>\n",
       "      <th>end_lat</th>\n",
       "      <th>end_lng</th>\n",
       "      <th>member_casual</th>\n",
       "    </tr>\n",
       "  </thead>\n",
       "  <tbody>\n",
       "    <tr>\n",
       "      <th>0</th>\n",
       "      <td>A847FADBBC638E45</td>\n",
       "      <td>docked_bike</td>\n",
       "      <td>2020-04-26 17:45:14</td>\n",
       "      <td>2020-04-26 18:12:03</td>\n",
       "      <td>Eckhart Park</td>\n",
       "      <td>86</td>\n",
       "      <td>Lincoln Ave &amp; Diversey Pkwy</td>\n",
       "      <td>152</td>\n",
       "      <td>41.8964</td>\n",
       "      <td>-87.6610</td>\n",
       "      <td>41.9322</td>\n",
       "      <td>-87.6586</td>\n",
       "      <td>member</td>\n",
       "    </tr>\n",
       "    <tr>\n",
       "      <th>1</th>\n",
       "      <td>5405B80E996FF60D</td>\n",
       "      <td>docked_bike</td>\n",
       "      <td>2020-04-17 17:08:54</td>\n",
       "      <td>2020-04-17 17:17:03</td>\n",
       "      <td>Drake Ave &amp; Fullerton Ave</td>\n",
       "      <td>503</td>\n",
       "      <td>Kosciuszko Park</td>\n",
       "      <td>499</td>\n",
       "      <td>41.9244</td>\n",
       "      <td>-87.7154</td>\n",
       "      <td>41.9306</td>\n",
       "      <td>-87.7238</td>\n",
       "      <td>member</td>\n",
       "    </tr>\n",
       "    <tr>\n",
       "      <th>2</th>\n",
       "      <td>5DD24A79A4E006F4</td>\n",
       "      <td>docked_bike</td>\n",
       "      <td>2020-04-01 17:54:13</td>\n",
       "      <td>2020-04-01 18:08:36</td>\n",
       "      <td>McClurg Ct &amp; Erie St</td>\n",
       "      <td>142</td>\n",
       "      <td>Indiana Ave &amp; Roosevelt Rd</td>\n",
       "      <td>255</td>\n",
       "      <td>41.8945</td>\n",
       "      <td>-87.6179</td>\n",
       "      <td>41.8679</td>\n",
       "      <td>-87.6230</td>\n",
       "      <td>member</td>\n",
       "    </tr>\n",
       "    <tr>\n",
       "      <th>3</th>\n",
       "      <td>2A59BBDF5CDBA725</td>\n",
       "      <td>docked_bike</td>\n",
       "      <td>2020-04-07 12:50:19</td>\n",
       "      <td>2020-04-07 13:02:31</td>\n",
       "      <td>California Ave &amp; Division St</td>\n",
       "      <td>216</td>\n",
       "      <td>Wood St &amp; Augusta Blvd</td>\n",
       "      <td>657</td>\n",
       "      <td>41.9030</td>\n",
       "      <td>-87.6975</td>\n",
       "      <td>41.8992</td>\n",
       "      <td>-87.6722</td>\n",
       "      <td>member</td>\n",
       "    </tr>\n",
       "    <tr>\n",
       "      <th>4</th>\n",
       "      <td>27AD306C119C6158</td>\n",
       "      <td>docked_bike</td>\n",
       "      <td>2020-04-18 10:22:59</td>\n",
       "      <td>2020-04-18 11:15:54</td>\n",
       "      <td>Rush St &amp; Hubbard St</td>\n",
       "      <td>125</td>\n",
       "      <td>Sheridan Rd &amp; Lawrence Ave</td>\n",
       "      <td>323</td>\n",
       "      <td>41.8902</td>\n",
       "      <td>-87.6262</td>\n",
       "      <td>41.9695</td>\n",
       "      <td>-87.6547</td>\n",
       "      <td>casual</td>\n",
       "    </tr>\n",
       "  </tbody>\n",
       "</table>\n",
       "</div>"
      ],
      "text/plain": [
       "            ride_id rideable_type           started_at             ended_at  \\\n",
       "0  A847FADBBC638E45   docked_bike  2020-04-26 17:45:14  2020-04-26 18:12:03   \n",
       "1  5405B80E996FF60D   docked_bike  2020-04-17 17:08:54  2020-04-17 17:17:03   \n",
       "2  5DD24A79A4E006F4   docked_bike  2020-04-01 17:54:13  2020-04-01 18:08:36   \n",
       "3  2A59BBDF5CDBA725   docked_bike  2020-04-07 12:50:19  2020-04-07 13:02:31   \n",
       "4  27AD306C119C6158   docked_bike  2020-04-18 10:22:59  2020-04-18 11:15:54   \n",
       "\n",
       "             start_station_name start_station_id             end_station_name  \\\n",
       "0                  Eckhart Park               86  Lincoln Ave & Diversey Pkwy   \n",
       "1     Drake Ave & Fullerton Ave              503              Kosciuszko Park   \n",
       "2          McClurg Ct & Erie St              142   Indiana Ave & Roosevelt Rd   \n",
       "3  California Ave & Division St              216       Wood St & Augusta Blvd   \n",
       "4          Rush St & Hubbard St              125   Sheridan Rd & Lawrence Ave   \n",
       "\n",
       "  end_station_id  start_lat  start_lng  end_lat  end_lng member_casual  \n",
       "0            152    41.8964   -87.6610  41.9322 -87.6586        member  \n",
       "1            499    41.9244   -87.7154  41.9306 -87.7238        member  \n",
       "2            255    41.8945   -87.6179  41.8679 -87.6230        member  \n",
       "3            657    41.9030   -87.6975  41.8992 -87.6722        member  \n",
       "4            323    41.8902   -87.6262  41.9695 -87.6547        casual  "
      ]
     },
     "execution_count": 4,
     "metadata": {},
     "output_type": "execute_result"
    }
   ],
   "source": [
    "# First of all, we need to drop any duplicate data. \n",
    "df.drop_duplicates().head()"
   ]
  },
  {
   "cell_type": "code",
   "execution_count": 5,
   "metadata": {},
   "outputs": [
    {
     "data": {
      "text/html": [
       "<div>\n",
       "<style scoped>\n",
       "    .dataframe tbody tr th:only-of-type {\n",
       "        vertical-align: middle;\n",
       "    }\n",
       "\n",
       "    .dataframe tbody tr th {\n",
       "        vertical-align: top;\n",
       "    }\n",
       "\n",
       "    .dataframe thead th {\n",
       "        text-align: right;\n",
       "    }\n",
       "</style>\n",
       "<table border=\"1\" class=\"dataframe\">\n",
       "  <thead>\n",
       "    <tr style=\"text-align: right;\">\n",
       "      <th></th>\n",
       "      <th>Total</th>\n",
       "      <th>Percent</th>\n",
       "    </tr>\n",
       "  </thead>\n",
       "  <tbody>\n",
       "    <tr>\n",
       "      <th>end_station_id</th>\n",
       "      <td>143703</td>\n",
       "      <td>0.041179</td>\n",
       "    </tr>\n",
       "    <tr>\n",
       "      <th>end_station_name</th>\n",
       "      <td>143242</td>\n",
       "      <td>0.041047</td>\n",
       "    </tr>\n",
       "    <tr>\n",
       "      <th>start_station_id</th>\n",
       "      <td>122801</td>\n",
       "      <td>0.035189</td>\n",
       "    </tr>\n",
       "    <tr>\n",
       "      <th>start_station_name</th>\n",
       "      <td>122175</td>\n",
       "      <td>0.035010</td>\n",
       "    </tr>\n",
       "    <tr>\n",
       "      <th>end_lng</th>\n",
       "      <td>4738</td>\n",
       "      <td>0.001358</td>\n",
       "    </tr>\n",
       "    <tr>\n",
       "      <th>end_lat</th>\n",
       "      <td>4738</td>\n",
       "      <td>0.001358</td>\n",
       "    </tr>\n",
       "    <tr>\n",
       "      <th>member_casual</th>\n",
       "      <td>0</td>\n",
       "      <td>0.000000</td>\n",
       "    </tr>\n",
       "    <tr>\n",
       "      <th>start_lng</th>\n",
       "      <td>0</td>\n",
       "      <td>0.000000</td>\n",
       "    </tr>\n",
       "    <tr>\n",
       "      <th>start_lat</th>\n",
       "      <td>0</td>\n",
       "      <td>0.000000</td>\n",
       "    </tr>\n",
       "    <tr>\n",
       "      <th>ended_at</th>\n",
       "      <td>0</td>\n",
       "      <td>0.000000</td>\n",
       "    </tr>\n",
       "    <tr>\n",
       "      <th>started_at</th>\n",
       "      <td>0</td>\n",
       "      <td>0.000000</td>\n",
       "    </tr>\n",
       "    <tr>\n",
       "      <th>rideable_type</th>\n",
       "      <td>0</td>\n",
       "      <td>0.000000</td>\n",
       "    </tr>\n",
       "    <tr>\n",
       "      <th>ride_id</th>\n",
       "      <td>0</td>\n",
       "      <td>0.000000</td>\n",
       "    </tr>\n",
       "  </tbody>\n",
       "</table>\n",
       "</div>"
      ],
      "text/plain": [
       "                     Total   Percent\n",
       "end_station_id      143703  0.041179\n",
       "end_station_name    143242  0.041047\n",
       "start_station_id    122801  0.035189\n",
       "start_station_name  122175  0.035010\n",
       "end_lng               4738  0.001358\n",
       "end_lat               4738  0.001358\n",
       "member_casual            0  0.000000\n",
       "start_lng                0  0.000000\n",
       "start_lat                0  0.000000\n",
       "ended_at                 0  0.000000\n",
       "started_at               0  0.000000\n",
       "rideable_type            0  0.000000\n",
       "ride_id                  0  0.000000"
      ]
     },
     "execution_count": 5,
     "metadata": {},
     "output_type": "execute_result"
    }
   ],
   "source": [
    "#check missing value\n",
    "total = df.isnull().sum().sort_values(ascending = False)\n",
    "percent = (df.isnull().sum() / df.isnull().count()).sort_values(ascending=False)\n",
    "miss_data = pd.concat([total, percent], axis = 1, keys=['Total', 'Percent'])\n",
    "\n",
    "miss_data"
   ]
  },
  {
   "cell_type": "markdown",
   "metadata": {},
   "source": [
    "We know that less than 5% of some columns are missing, so we don’t need to remove any columns as it won’t be a problem for our analysis"
   ]
  },
  {
   "cell_type": "markdown",
   "metadata": {},
   "source": [
    "We create a new column that represents the time spent by a rider. We take the ended time recorded and subtract by the time the rider started at. Another column for the day was also created.\n",
    " This will be very helpful for our future analysis and look at the data. \n"
   ]
  },
  {
   "cell_type": "code",
   "execution_count": 6,
   "metadata": {},
   "outputs": [],
   "source": [
    "#change date to calculate the time\n",
    "df['started_at'] = pd.to_datetime(df['started_at'])\n",
    "df['ended_at'] = pd.to_datetime(df['ended_at'])"
   ]
  },
  {
   "cell_type": "code",
   "execution_count": 7,
   "metadata": {},
   "outputs": [],
   "source": [
    "#Create variable time\n",
    "df['time'] = df['ended_at'] - df['started_at'] \n",
    "df['time'] = df['time'].dt.total_seconds()/60"
   ]
  },
  {
   "cell_type": "code",
   "execution_count": 8,
   "metadata": {},
   "outputs": [],
   "source": [
    "df['day'] = pd.to_datetime(df['started_at'], format = '%Y-%m-%d %I-%p')\n",
    "df['day'] = df['day'].dt.day_name()\n",
    "df['month'] = df['started_at'].dt.month"
   ]
  },
  {
   "cell_type": "code",
   "execution_count": 9,
   "metadata": {},
   "outputs": [
    {
     "data": {
      "text/plain": [
       "count    3489748\n",
       "mean          24\n",
       "std          390\n",
       "min       -29049\n",
       "25%            7\n",
       "50%           14\n",
       "75%           26\n",
       "max        58720\n",
       "Name: time, dtype: int32"
      ]
     },
     "execution_count": 9,
     "metadata": {},
     "output_type": "execute_result"
    }
   ],
   "source": [
    "df['time'].describe().astype('int')"
   ]
  },
  {
   "cell_type": "markdown",
   "metadata": {},
   "source": [
    " This is troublesome. The minimal value is negative. This means a rider to time-travel, which is impossible. The 25th quantile is also at 7 mn, so it means at least 1/4th of the data is below 7 mn. \n"
   ]
  },
  {
   "cell_type": "code",
   "execution_count": 10,
   "metadata": {},
   "outputs": [
    {
     "data": {
      "text/plain": [
       "<AxesSubplot:>"
      ]
     },
     "execution_count": 10,
     "metadata": {},
     "output_type": "execute_result"
    },
    {
     "data": {
      "image/png": "[encoded data removed]",
      "text/plain": [
       "<Figure size 432x288 with 1 Axes>"
      ]
     },
     "metadata": {
      "needs_background": "light"
     },
     "output_type": "display_data"
    }
   ],
   "source": [
    "df.boxplot('time')"
   ]
  },
  {
   "cell_type": "markdown",
   "metadata": {},
   "source": [
    "The graph shows us several data with a negative value above -20000. We can see a lot of data above 20000 mn, which represents more than 333 hours and won't be useful for our analysis. "
   ]
  },
  {
   "cell_type": "code",
   "execution_count": 11,
   "metadata": {},
   "outputs": [],
   "source": [
    "#Get rid of outliers\n",
    "df = df[(df.time < df.time.quantile(.995)) & (df.time > df.time.quantile(.15))]"
   ]
  },
  {
   "cell_type": "markdown",
   "metadata": {},
   "source": [
    "For this reason, I have decided to keep the data within a range of quantile of 15th to 95th. In other words, all outliers that are below the first 15 % of the data range or above 95% will be removed. This decision was done to waive all data that may not be very representative of a typical rider. With this, we can see a better representation of the time spent by riders"
   ]
  },
  {
   "cell_type": "markdown",
   "metadata": {},
   "source": [
    "Here is how I count the most used station. I took the decision to get rid of the station that was used less than 100 times. It was a personal decision and nothing to support my thought. However, the most used stations were used more than 10 000 times and a lot of them were used only 1 time in the last 12 months. I don't know if that is an error, but I thought it was a better idea to understand the pattern of riders."
   ]
  },
  {
   "cell_type": "code",
   "execution_count": 13,
   "metadata": {},
   "outputs": [
    {
     "data": {
      "text/plain": [
       "<AxesSubplot:>"
      ]
     },
     "execution_count": 13,
     "metadata": {},
     "output_type": "execute_result"
    },
    {
     "data": {
      "image/png": "[encoded data removed]",
      "text/plain": [
       "<Figure size 432x288 with 1 Axes>"
      ]
     },
     "metadata": {
      "needs_background": "light"
     },
     "output_type": "display_data"
    }
   ],
   "source": [
    "df.boxplot('time')"
   ]
  },
  {
   "cell_type": "markdown",
   "metadata": {},
   "source": [
    "Now time is in a better shape and usable for my analysis."
   ]
  },
  {
   "cell_type": "code",
   "execution_count": 14,
   "metadata": {},
   "outputs": [
    {
     "data": {
      "text/html": [
       "<div>\n",
       "<style scoped>\n",
       "    .dataframe tbody tr th:only-of-type {\n",
       "        vertical-align: middle;\n",
       "    }\n",
       "\n",
       "    .dataframe tbody tr th {\n",
       "        vertical-align: top;\n",
       "    }\n",
       "\n",
       "    .dataframe thead th {\n",
       "        text-align: right;\n",
       "    }\n",
       "</style>\n",
       "<table border=\"1\" class=\"dataframe\">\n",
       "  <thead>\n",
       "    <tr style=\"text-align: right;\">\n",
       "      <th></th>\n",
       "      <th>start_station_name</th>\n",
       "      <th>Counts</th>\n",
       "    </tr>\n",
       "  </thead>\n",
       "  <tbody>\n",
       "    <tr>\n",
       "      <th>0</th>\n",
       "      <td>Streeter Dr &amp; Grand Ave</td>\n",
       "      <td>33040</td>\n",
       "    </tr>\n",
       "    <tr>\n",
       "      <th>1</th>\n",
       "      <td>Lake Shore Dr &amp; Monroe St</td>\n",
       "      <td>28326</td>\n",
       "    </tr>\n",
       "    <tr>\n",
       "      <th>2</th>\n",
       "      <td>Theater on the Lake</td>\n",
       "      <td>28184</td>\n",
       "    </tr>\n",
       "    <tr>\n",
       "      <th>3</th>\n",
       "      <td>Clark St &amp; Elm St</td>\n",
       "      <td>27249</td>\n",
       "    </tr>\n",
       "    <tr>\n",
       "      <th>4</th>\n",
       "      <td>Lake Shore Dr &amp; North Blvd</td>\n",
       "      <td>25373</td>\n",
       "    </tr>\n",
       "    <tr>\n",
       "      <th>...</th>\n",
       "      <td>...</td>\n",
       "      <td>...</td>\n",
       "    </tr>\n",
       "    <tr>\n",
       "      <th>701</th>\n",
       "      <td>N Hampden Ct &amp; W Diversey Ave</td>\n",
       "      <td>1</td>\n",
       "    </tr>\n",
       "    <tr>\n",
       "      <th>702</th>\n",
       "      <td>S Michigan Ave &amp; E 118th St</td>\n",
       "      <td>1</td>\n",
       "    </tr>\n",
       "    <tr>\n",
       "      <th>703</th>\n",
       "      <td>N Damen Ave &amp; W Wabansia St</td>\n",
       "      <td>1</td>\n",
       "    </tr>\n",
       "    <tr>\n",
       "      <th>704</th>\n",
       "      <td>Stewart Ave &amp; 63rd St (*)</td>\n",
       "      <td>1</td>\n",
       "    </tr>\n",
       "    <tr>\n",
       "      <th>705</th>\n",
       "      <td>N Carpenter St &amp; W Lake St</td>\n",
       "      <td>1</td>\n",
       "    </tr>\n",
       "  </tbody>\n",
       "</table>\n",
       "<p>706 rows × 2 columns</p>\n",
       "</div>"
      ],
      "text/plain": [
       "                start_station_name  Counts\n",
       "0          Streeter Dr & Grand Ave   33040\n",
       "1        Lake Shore Dr & Monroe St   28326\n",
       "2              Theater on the Lake   28184\n",
       "3                Clark St & Elm St   27249\n",
       "4       Lake Shore Dr & North Blvd   25373\n",
       "..                             ...     ...\n",
       "701  N Hampden Ct & W Diversey Ave       1\n",
       "702    S Michigan Ave & E 118th St       1\n",
       "703    N Damen Ave & W Wabansia St       1\n",
       "704      Stewart Ave & 63rd St (*)       1\n",
       "705     N Carpenter St & W Lake St       1\n",
       "\n",
       "[706 rows x 2 columns]"
      ]
     },
     "execution_count": 14,
     "metadata": {},
     "output_type": "execute_result"
    }
   ],
   "source": [
    "#Counts the most used station\n",
    "station_count = df['start_station_name'].value_counts().reset_index(name='Counts')\n",
    "station_count.rename(columns={'index': 'start_station_name'}, inplace=True)\n",
    "station_count\n"
   ]
  },
  {
   "cell_type": "code",
   "execution_count": 15,
   "metadata": {},
   "outputs": [],
   "source": [
    "#For a station to be taken into account, it must be at least used 100 in the last 12 months\n",
    "station_count.drop(station_count.index[station_count['Counts'] <= 100], inplace=True)"
   ]
  },
  {
   "cell_type": "code",
   "execution_count": 16,
   "metadata": {},
   "outputs": [
    {
     "data": {
      "text/html": [
       "<div>\n",
       "<style scoped>\n",
       "    .dataframe tbody tr th:only-of-type {\n",
       "        vertical-align: middle;\n",
       "    }\n",
       "\n",
       "    .dataframe tbody tr th {\n",
       "        vertical-align: top;\n",
       "    }\n",
       "\n",
       "    .dataframe thead th {\n",
       "        text-align: right;\n",
       "    }\n",
       "</style>\n",
       "<table border=\"1\" class=\"dataframe\">\n",
       "  <thead>\n",
       "    <tr style=\"text-align: right;\">\n",
       "      <th></th>\n",
       "      <th>start_station_name</th>\n",
       "      <th>Counts</th>\n",
       "    </tr>\n",
       "  </thead>\n",
       "  <tbody>\n",
       "    <tr>\n",
       "      <th>591</th>\n",
       "      <td>Eggleston Ave &amp; 69th St</td>\n",
       "      <td>110</td>\n",
       "    </tr>\n",
       "    <tr>\n",
       "      <th>592</th>\n",
       "      <td>Wabash Ave &amp; 83rd St</td>\n",
       "      <td>108</td>\n",
       "    </tr>\n",
       "    <tr>\n",
       "      <th>593</th>\n",
       "      <td>Vernon Ave &amp; 79th St</td>\n",
       "      <td>108</td>\n",
       "    </tr>\n",
       "    <tr>\n",
       "      <th>594</th>\n",
       "      <td>Eberhart Ave &amp; 91st St</td>\n",
       "      <td>105</td>\n",
       "    </tr>\n",
       "    <tr>\n",
       "      <th>595</th>\n",
       "      <td>Loomis Blvd &amp; 84th St</td>\n",
       "      <td>104</td>\n",
       "    </tr>\n",
       "  </tbody>\n",
       "</table>\n",
       "</div>"
      ],
      "text/plain": [
       "          start_station_name  Counts\n",
       "591  Eggleston Ave & 69th St     110\n",
       "592     Wabash Ave & 83rd St     108\n",
       "593     Vernon Ave & 79th St     108\n",
       "594   Eberhart Ave & 91st St     105\n",
       "595    Loomis Blvd & 84th St     104"
      ]
     },
     "execution_count": 16,
     "metadata": {},
     "output_type": "execute_result"
    }
   ],
   "source": [
    "station_count.tail()"
   ]
  },
  {
   "cell_type": "code",
   "execution_count": 17,
   "metadata": {},
   "outputs": [],
   "source": [
    "#Merge the most used stations to the dataset\n",
    "merged_df = df.merge(station_count, how = 'inner', on = ['start_station_name'])"
   ]
  },
  {
   "cell_type": "code",
   "execution_count": 18,
   "metadata": {},
   "outputs": [],
   "source": [
    "#Do the same for the end_station_count\n",
    "end_station_count = merged_df['end_station_name'].value_counts().reset_index(name='Counts')\n",
    "end_station_count.rename(columns={'index':'end_station_name'}, inplace=True)"
   ]
  },
  {
   "cell_type": "code",
   "execution_count": 19,
   "metadata": {},
   "outputs": [],
   "source": [
    "#Delete station visited less than a 100 times (end_station_name)\n",
    "end_station_count.drop(end_station_count.index[end_station_count['Counts'] <= 100], inplace=True)"
   ]
  },
  {
   "cell_type": "code",
   "execution_count": 20,
   "metadata": {},
   "outputs": [],
   "source": [
    "#merged with merged_df \n",
    "merged_df = merged_df.merge(end_station_count, how = 'inner', on = ['end_station_name'])\n",
    "merged_df.drop(['Counts_x', 'Counts_y'], axis = 1, inplace = True) "
   ]
  },
  {
   "cell_type": "code",
   "execution_count": 21,
   "metadata": {},
   "outputs": [],
   "source": [
    "import datetime\n",
    "#get the month with another column \n",
    "merged_df['month'] = merged_df['started_at'].dt.month"
   ]
  },
  {
   "cell_type": "code",
   "execution_count": 22,
   "metadata": {},
   "outputs": [],
   "source": [
    "import sweetviz as sv"
   ]
  },
  {
   "cell_type": "code",
   "execution_count": 23,
   "metadata": {},
   "outputs": [
    {
     "data": {
      "application/vnd.jupyter.widget-view+json": {
       "model_id": "2d341ba3c0644a1b9779acc4c3f9294d",
       "version_major": 2,
       "version_minor": 0
      },
      "text/plain": [
       "HBox(children=(HTML(value=''), FloatProgress(value=0.0, layout=Layout(flex='2'), max=9.0), HTML(value='')), la…"
      ]
     },
     "metadata": {},
     "output_type": "display_data"
    },
    {
     "name": "stdout",
     "output_type": "stream",
     "text": [
      "\n",
      "Report SWEETVIZ_REPORT.html was generated! NOTEBOOK/COLAB USERS: the web browser MAY not pop up, regardless, the report IS saved in your notebook/colab files.\n"
     ]
    }
   ],
   "source": [
    "df_report = merged_df[['ride_id','rideable_type','member_casual', 'time', 'day','month', 'start_station_name','end_station_name']]\n",
    "report=sv.analyze(df_report)\n",
    "report.show_html()"
   ]
  },
  {
   "cell_type": "markdown",
   "metadata": {},
   "source": [
    "We got a lot of insights with this report, for example almost 60 % of riders were members. So there are more members than Casual riders. Also, the docked_bike was the most used. Almost 80 % of riders used it\n",
    "\n",
    "Other columns didn’t need to be cleaned. \n",
    "For example, ride_id will always be different as all id are different from the other. In other words, a special id is attributed to a new trip. So, we can’t do any analysis with this data. \n",
    "Rideable_type contains only 3 distinct data \n",
    "start_station_id and end_station_id could be removed from the dataset as it wasn’t useful. \n",
    "\n",
    "As the cleaning phase is over, we can look at this dataset in more detail. \n"
   ]
  },
  {
   "cell_type": "code",
   "execution_count": 24,
   "metadata": {},
   "outputs": [
    {
     "name": "stdout",
     "output_type": "stream",
     "text": [
      "<class 'pandas.core.frame.DataFrame'>\n",
      "Int64Index: 2795614 entries, 0 to 2795613\n",
      "Data columns (total 16 columns):\n",
      " #   Column              Dtype         \n",
      "---  ------              -----         \n",
      " 0   ride_id             object        \n",
      " 1   rideable_type       object        \n",
      " 2   started_at          datetime64[ns]\n",
      " 3   ended_at            datetime64[ns]\n",
      " 4   start_station_name  object        \n",
      " 5   start_station_id    object        \n",
      " 6   end_station_name    object        \n",
      " 7   end_station_id      object        \n",
      " 8   start_lat           float64       \n",
      " 9   start_lng           float64       \n",
      " 10  end_lat             float64       \n",
      " 11  end_lng             float64       \n",
      " 12  member_casual       object        \n",
      " 13  time                float64       \n",
      " 14  day                 object        \n",
      " 15  month               int64         \n",
      "dtypes: datetime64[ns](2), float64(5), int64(1), object(8)\n",
      "memory usage: 362.6+ MB\n"
     ]
    }
   ],
   "source": [
    "merged_df.info()"
   ]
  },
  {
   "cell_type": "markdown",
   "metadata": {},
   "source": [
    "### Analysis phase"
   ]
  },
  {
   "cell_type": "markdown",
   "metadata": {},
   "source": [
    "The data was divided between Casual and Member dataset.\n",
    "The analysis is focusing on the time spent on average per member given a day. I separate the dataset and decide to merge them to get the table Monday to Sunday and the time on average\n"
   ]
  },
  {
   "cell_type": "code",
   "execution_count": 25,
   "metadata": {},
   "outputs": [],
   "source": [
    "#separate casual and member data\n",
    "casual_df = merged_df[merged_df['member_casual'] == 'casual']\n",
    "casual_df = casual_df.rename(columns={'member_casual':'casual'})\n",
    "member_df = merged_df[merged_df['member_casual'] == 'member']\n",
    "member_df = member_df.rename(columns={'member_casual':'member'})"
   ]
  },
  {
   "cell_type": "code",
   "execution_count": 26,
   "metadata": {
    "tags": []
   },
   "outputs": [],
   "source": [
    "#Get the mean time spent by riders per day as a casual\n",
    "casual_daytime = casual_df.groupby(\"day\").agg({'casual':'count',\n",
    "                                               'time':'mean'}).astype('int')\n",
    "casual_daytime = casual_daytime.reset_index()\n",
    "casual_daytime = casual_daytime.rename(columns={'time':'avg_casual_time'})"
   ]
  },
  {
   "cell_type": "code",
   "execution_count": 27,
   "metadata": {},
   "outputs": [],
   "source": [
    "#Get the mean time spent by riders per day as a member\n",
    "member_daytime = member_df.groupby(\"day\").agg({'member':'count',\n",
    "                                               'time':'mean'}).astype('int')\n",
    "member_daytime = member_daytime.reset_index()\n",
    "member_daytime = member_daytime.rename(columns={'time':'avg_member_time',\n",
    "                                               'day':'day1'})"
   ]
  },
  {
   "cell_type": "code",
   "execution_count": 28,
   "metadata": {},
   "outputs": [],
   "source": [
    "mc_daytime = pd.concat([casual_daytime, member_daytime], axis=1)\n",
    "mc_daytime.drop(['day1'], axis=1, inplace=True)"
   ]
  },
  {
   "cell_type": "code",
   "execution_count": 29,
   "metadata": {},
   "outputs": [
    {
     "data": {
      "text/html": [
       "<div>\n",
       "<style scoped>\n",
       "    .dataframe tbody tr th:only-of-type {\n",
       "        vertical-align: middle;\n",
       "    }\n",
       "\n",
       "    .dataframe tbody tr th {\n",
       "        vertical-align: top;\n",
       "    }\n",
       "\n",
       "    .dataframe thead th {\n",
       "        text-align: right;\n",
       "    }\n",
       "</style>\n",
       "<table border=\"1\" class=\"dataframe\">\n",
       "  <thead>\n",
       "    <tr style=\"text-align: right;\">\n",
       "      <th></th>\n",
       "      <th>day</th>\n",
       "      <th>casual</th>\n",
       "      <th>avg_casual_time</th>\n",
       "      <th>member</th>\n",
       "      <th>avg_member_time</th>\n",
       "    </tr>\n",
       "  </thead>\n",
       "  <tbody>\n",
       "    <tr>\n",
       "      <th>0</th>\n",
       "      <td>Friday</td>\n",
       "      <td>180149</td>\n",
       "      <td>32</td>\n",
       "      <td>231020</td>\n",
       "      <td>17</td>\n",
       "    </tr>\n",
       "    <tr>\n",
       "      <th>1</th>\n",
       "      <td>Monday</td>\n",
       "      <td>129550</td>\n",
       "      <td>34</td>\n",
       "      <td>197963</td>\n",
       "      <td>17</td>\n",
       "    </tr>\n",
       "    <tr>\n",
       "      <th>2</th>\n",
       "      <td>Saturday</td>\n",
       "      <td>297743</td>\n",
       "      <td>37</td>\n",
       "      <td>253095</td>\n",
       "      <td>19</td>\n",
       "    </tr>\n",
       "    <tr>\n",
       "      <th>3</th>\n",
       "      <td>Sunday</td>\n",
       "      <td>232752</td>\n",
       "      <td>38</td>\n",
       "      <td>206851</td>\n",
       "      <td>19</td>\n",
       "    </tr>\n",
       "    <tr>\n",
       "      <th>4</th>\n",
       "      <td>Thursday</td>\n",
       "      <td>142287</td>\n",
       "      <td>31</td>\n",
       "      <td>225095</td>\n",
       "      <td>17</td>\n",
       "    </tr>\n",
       "  </tbody>\n",
       "</table>\n",
       "</div>"
      ],
      "text/plain": [
       "        day  casual  avg_casual_time  member  avg_member_time\n",
       "0    Friday  180149               32  231020               17\n",
       "1    Monday  129550               34  197963               17\n",
       "2  Saturday  297743               37  253095               19\n",
       "3    Sunday  232752               38  206851               19\n",
       "4  Thursday  142287               31  225095               17"
      ]
     },
     "execution_count": 29,
     "metadata": {},
     "output_type": "execute_result"
    }
   ],
   "source": [
    "mc_daytime.head()"
   ]
  },
  {
   "cell_type": "code",
   "execution_count": 30,
   "metadata": {},
   "outputs": [],
   "source": [
    "#Rearrange the days\n",
    "cats = ['Monday', 'Tuesday', 'Wednesday', 'Thursday', 'Friday', 'Saturday', 'Sunday']\n",
    "mc_daytime['day'] = pd.Categorical(mc_daytime['day'], categories=cats, ordered=True)\n",
    "mc_daytime = mc_daytime.sort_values('day')"
   ]
  },
  {
   "cell_type": "code",
   "execution_count": 34,
   "metadata": {},
   "outputs": [
    {
     "data": {
      "text/html": [
       "<div>\n",
       "<style scoped>\n",
       "    .dataframe tbody tr th:only-of-type {\n",
       "        vertical-align: middle;\n",
       "    }\n",
       "\n",
       "    .dataframe tbody tr th {\n",
       "        vertical-align: top;\n",
       "    }\n",
       "\n",
       "    .dataframe thead th {\n",
       "        text-align: right;\n",
       "    }\n",
       "</style>\n",
       "<table border=\"1\" class=\"dataframe\">\n",
       "  <thead>\n",
       "    <tr style=\"text-align: right;\">\n",
       "      <th></th>\n",
       "      <th>day</th>\n",
       "      <th>casual</th>\n",
       "      <th>avg_casual_time</th>\n",
       "      <th>member</th>\n",
       "      <th>avg_member_time</th>\n",
       "    </tr>\n",
       "  </thead>\n",
       "  <tbody>\n",
       "    <tr>\n",
       "      <th>1</th>\n",
       "      <td>Monday</td>\n",
       "      <td>129550</td>\n",
       "      <td>34</td>\n",
       "      <td>197963</td>\n",
       "      <td>17</td>\n",
       "    </tr>\n",
       "    <tr>\n",
       "      <th>5</th>\n",
       "      <td>Tuesday</td>\n",
       "      <td>123950</td>\n",
       "      <td>32</td>\n",
       "      <td>211542</td>\n",
       "      <td>17</td>\n",
       "    </tr>\n",
       "    <tr>\n",
       "      <th>6</th>\n",
       "      <td>Wednesday</td>\n",
       "      <td>135052</td>\n",
       "      <td>31</td>\n",
       "      <td>228565</td>\n",
       "      <td>17</td>\n",
       "    </tr>\n",
       "    <tr>\n",
       "      <th>4</th>\n",
       "      <td>Thursday</td>\n",
       "      <td>142287</td>\n",
       "      <td>31</td>\n",
       "      <td>225095</td>\n",
       "      <td>17</td>\n",
       "    </tr>\n",
       "    <tr>\n",
       "      <th>0</th>\n",
       "      <td>Friday</td>\n",
       "      <td>180149</td>\n",
       "      <td>32</td>\n",
       "      <td>231020</td>\n",
       "      <td>17</td>\n",
       "    </tr>\n",
       "  </tbody>\n",
       "</table>\n",
       "</div>"
      ],
      "text/plain": [
       "         day  casual  avg_casual_time  member  avg_member_time\n",
       "1     Monday  129550               34  197963               17\n",
       "5    Tuesday  123950               32  211542               17\n",
       "6  Wednesday  135052               31  228565               17\n",
       "4   Thursday  142287               31  225095               17\n",
       "0     Friday  180149               32  231020               17"
      ]
     },
     "execution_count": 34,
     "metadata": {},
     "output_type": "execute_result"
    }
   ],
   "source": [
    "mc_daytime.head()"
   ]
  },
  {
   "cell_type": "code",
   "execution_count": 35,
   "metadata": {},
   "outputs": [
    {
     "data": {
      "text/plain": [
       "Text(0.5, 1.0, 'Members / Casual riders comparaison per day and average usage (mn)')"
      ]
     },
     "execution_count": 35,
     "metadata": {},
     "output_type": "execute_result"
    },
    {
     "data": {
      "image/png": "[encoded data removed]",
      "text/plain": [
       "<Figure size 1440x720 with 2 Axes>"
      ]
     },
     "metadata": {
      "needs_background": "light"
     },
     "output_type": "display_data"
    }
   ],
   "source": [
    "#Plot for data vizualisation\n",
    "import matplotlib.pyplot as plt\n",
    "%matplotlib inline\n",
    "\n",
    "w = 0.4\n",
    "x = mc_daytime['day']\n",
    "y1 = mc_daytime['casual']\n",
    "y2 = mc_daytime['member']\n",
    "y3 = mc_daytime['avg_casual_time']\n",
    "y4 = mc_daytime['avg_member_time']\n",
    "\n",
    "bar1 = np.arange(len(x))\n",
    "bar2 = [i+w for i in bar1]\n",
    "\n",
    "fig, ax = plt.subplots(figsize=(20, 10))\n",
    "ax2 = ax.twinx()\n",
    "\n",
    "ax.bar(bar1, y1,w, label='Casual', color = 'navy')\n",
    "ax.bar(bar2, y2,w, label='Member', color = 'crimson')\n",
    "ax2.plot(x, y3, color = 'blue', label='Avg Casual time in minutes', linewidth=4.0)\n",
    "ax2.plot(x, y4, color = 'red', label='Avg Member time in minutes', linewidth=4.0)\n",
    "ax.patch.set_facecolor('black')\n",
    "\n",
    "\n",
    "plt.grid(True)\n",
    "plt.xticks(bar1,x)\n",
    "ax.legend(loc=2)\n",
    "ax2.legend(loc=1)\n",
    "plt.xlabel('Days')\n",
    "ax.set_xlabel(\"Days\")\n",
    "ax.set_ylabel(\"Number of Member / Casual per day\")\n",
    "plt.ylabel('Avg Casual / Member time in minutes')\n",
    "\n",
    "\n",
    "plt.title('Members / Casual riders comparaison per day and average usage (mn)')"
   ]
  },
  {
   "cell_type": "markdown",
   "metadata": {},
   "source": [
    "This graph shows us the difference between the number of members and casuals on average per day as well as the time spent. This graph gives us a lot of insights into the difference of behaviors between Members and Casual. \n",
    "\n",
    "As we can see, Casual riders’ behavior is very different on the weekend than on weekdays. \n",
    "\n",
    "The amount is increased by more than 2 times and the pick on Saturday with 296905 riders\n",
    "\n",
    "Their average time per day is also increased by a lot on the weekend. The pick is on Sunday with 38 mn per person. \n",
    "The number of Members does not change as much as Casual riders. It used to be the same on average. The time on average does not change as well, but it increased by 2mn on the weekend. \n",
    "\n",
    "This graph shows us a big difference in behavior between Casual and Member riders. Members paid for a full-year membership, so they can use it every time. This is shown by their habit as it doesn’t change over days. The first hypothesis I want to observe is: \n",
    "Do members riders use to take the bicycle to go to their workplace? \n",
    "Do casual riders want to take to visit the city or having fun with people?\n",
    "\n",
    "This graph gives us a lot of insight, but we still need other data, so we will keep the same parameters (Average number and average time spent) but it won’t be by day but by month.\n"
   ]
  },
  {
   "cell_type": "code",
   "execution_count": 36,
   "metadata": {},
   "outputs": [],
   "source": [
    "#Get the mean time spent by riders per day as a member\n",
    "member_monthtime = member_df.groupby(\"month\").agg({'member':'count',\n",
    "                                                   'time':'mean'}).astype('int')\n",
    "member_monthtime = member_monthtime.reset_index()\n",
    "member_monthtime.rename(columns={'time':'avg_member_time'}, inplace=True)"
   ]
  },
  {
   "cell_type": "code",
   "execution_count": 37,
   "metadata": {},
   "outputs": [],
   "source": [
    "casual_monthtime = casual_df.groupby(\"month\").agg({'casual':'count',\n",
    "                                               'time':'mean'}).astype('int')\n",
    "casual_monthtime = casual_monthtime.reset_index()\n",
    "casual_monthtime.rename(columns={'time':'avg_casual_time',\n",
    "                                 'month':'month1'}, inplace=True)"
   ]
  },
  {
   "cell_type": "code",
   "execution_count": 38,
   "metadata": {},
   "outputs": [],
   "source": [
    "mc_monthtime = pd.merge(member_monthtime, casual_monthtime, left_index=True, right_index=True)\n",
    "mc_monthtime.drop('month1', axis=1, inplace=True)"
   ]
  },
  {
   "cell_type": "code",
   "execution_count": 39,
   "metadata": {},
   "outputs": [
    {
     "data": {
      "text/html": [
       "<div>\n",
       "<style scoped>\n",
       "    .dataframe tbody tr th:only-of-type {\n",
       "        vertical-align: middle;\n",
       "    }\n",
       "\n",
       "    .dataframe tbody tr th {\n",
       "        vertical-align: top;\n",
       "    }\n",
       "\n",
       "    .dataframe thead th {\n",
       "        text-align: right;\n",
       "    }\n",
       "</style>\n",
       "<table border=\"1\" class=\"dataframe\">\n",
       "  <thead>\n",
       "    <tr style=\"text-align: right;\">\n",
       "      <th></th>\n",
       "      <th>month</th>\n",
       "      <th>member</th>\n",
       "      <th>avg_member_time</th>\n",
       "      <th>casual</th>\n",
       "      <th>avg_casual_time</th>\n",
       "    </tr>\n",
       "  </thead>\n",
       "  <tbody>\n",
       "    <tr>\n",
       "      <th>0</th>\n",
       "      <td>1</td>\n",
       "      <td>49566</td>\n",
       "      <td>14</td>\n",
       "      <td>12447</td>\n",
       "      <td>22</td>\n",
       "    </tr>\n",
       "    <tr>\n",
       "      <th>1</th>\n",
       "      <td>2</td>\n",
       "      <td>26945</td>\n",
       "      <td>16</td>\n",
       "      <td>7657</td>\n",
       "      <td>28</td>\n",
       "    </tr>\n",
       "    <tr>\n",
       "      <th>2</th>\n",
       "      <td>3</td>\n",
       "      <td>98771</td>\n",
       "      <td>16</td>\n",
       "      <td>68301</td>\n",
       "      <td>31</td>\n",
       "    </tr>\n",
       "    <tr>\n",
       "      <th>3</th>\n",
       "      <td>4</td>\n",
       "      <td>50851</td>\n",
       "      <td>19</td>\n",
       "      <td>22152</td>\n",
       "      <td>35</td>\n",
       "    </tr>\n",
       "    <tr>\n",
       "      <th>4</th>\n",
       "      <td>5</td>\n",
       "      <td>97301</td>\n",
       "      <td>21</td>\n",
       "      <td>81642</td>\n",
       "      <td>39</td>\n",
       "    </tr>\n",
       "    <tr>\n",
       "      <th>5</th>\n",
       "      <td>6</td>\n",
       "      <td>161741</td>\n",
       "      <td>19</td>\n",
       "      <td>145250</td>\n",
       "      <td>37</td>\n",
       "    </tr>\n",
       "    <tr>\n",
       "      <th>6</th>\n",
       "      <td>7</td>\n",
       "      <td>238475</td>\n",
       "      <td>19</td>\n",
       "      <td>252157</td>\n",
       "      <td>39</td>\n",
       "    </tr>\n",
       "    <tr>\n",
       "      <th>7</th>\n",
       "      <td>8</td>\n",
       "      <td>265733</td>\n",
       "      <td>18</td>\n",
       "      <td>261282</td>\n",
       "      <td>35</td>\n",
       "    </tr>\n",
       "    <tr>\n",
       "      <th>8</th>\n",
       "      <td>9</td>\n",
       "      <td>224816</td>\n",
       "      <td>17</td>\n",
       "      <td>196012</td>\n",
       "      <td>31</td>\n",
       "    </tr>\n",
       "    <tr>\n",
       "      <th>9</th>\n",
       "      <td>10</td>\n",
       "      <td>163774</td>\n",
       "      <td>16</td>\n",
       "      <td>108790</td>\n",
       "      <td>28</td>\n",
       "    </tr>\n",
       "    <tr>\n",
       "      <th>10</th>\n",
       "      <td>11</td>\n",
       "      <td>111379</td>\n",
       "      <td>16</td>\n",
       "      <td>64703</td>\n",
       "      <td>29</td>\n",
       "    </tr>\n",
       "    <tr>\n",
       "      <th>11</th>\n",
       "      <td>12</td>\n",
       "      <td>64779</td>\n",
       "      <td>15</td>\n",
       "      <td>21090</td>\n",
       "      <td>24</td>\n",
       "    </tr>\n",
       "  </tbody>\n",
       "</table>\n",
       "</div>"
      ],
      "text/plain": [
       "    month  member  avg_member_time  casual  avg_casual_time\n",
       "0       1   49566               14   12447               22\n",
       "1       2   26945               16    7657               28\n",
       "2       3   98771               16   68301               31\n",
       "3       4   50851               19   22152               35\n",
       "4       5   97301               21   81642               39\n",
       "5       6  161741               19  145250               37\n",
       "6       7  238475               19  252157               39\n",
       "7       8  265733               18  261282               35\n",
       "8       9  224816               17  196012               31\n",
       "9      10  163774               16  108790               28\n",
       "10     11  111379               16   64703               29\n",
       "11     12   64779               15   21090               24"
      ]
     },
     "execution_count": 39,
     "metadata": {},
     "output_type": "execute_result"
    }
   ],
   "source": [
    "mc_monthtime"
   ]
  },
  {
   "cell_type": "code",
   "execution_count": 40,
   "metadata": {},
   "outputs": [
    {
     "data": {
      "text/plain": [
       "Text(0.5, 1.0, 'Members / Casual riders comparaison per month and average usage (mn)')"
      ]
     },
     "execution_count": 40,
     "metadata": {},
     "output_type": "execute_result"
    },
    {
     "data": {
      "image/png": "[encoded data removed]",
      "text/plain": [
       "<Figure size 1440x720 with 2 Axes>"
      ]
     },
     "metadata": {
      "needs_background": "light"
     },
     "output_type": "display_data"
    }
   ],
   "source": [
    "#Plot for data vizualisation\n",
    "\n",
    "w = 0.4\n",
    "x = mc_monthtime['month']\n",
    "y1 = mc_monthtime['casual']\n",
    "y2 = mc_monthtime['member']\n",
    "y3 = mc_monthtime['avg_casual_time']\n",
    "y4 = mc_monthtime['avg_member_time']\n",
    "\n",
    "bar1 = np.arange(len(x))\n",
    "bar2 = [i+w for i in bar1]\n",
    "\n",
    "fig, ax = plt.subplots(figsize=(20, 10))\n",
    "ax2 = ax.twinx()\n",
    "\n",
    "ax.bar(bar1, y1,w, label='Casual', color = 'navy')\n",
    "ax.bar(bar2, y2,w, label='Member', color = 'crimson')\n",
    "ax2.plot(x, y3, color = 'blue', label='Casual time in minutes', linewidth=4.0)\n",
    "ax2.plot(x, y4, color = 'red', label='Member time in minutes', linewidth=4.0)\n",
    "ax.patch.set_facecolor('black')\n",
    "\n",
    "\n",
    "plt.grid(True)\n",
    "plt.xticks(bar1,x)\n",
    "ax.legend(loc=2)\n",
    "ax2.legend(loc=1)\n",
    "ax.set_xlabel(\"Months\")\n",
    "ax.set_ylabel(\"Number of Member / Casual per month\")\n",
    "plt.ylabel('Casual / Member time in minutes')\n",
    "\n",
    "\n",
    "plt.title('Members / Casual riders comparaison per month and average usage (mn)')"
   ]
  },
  {
   "cell_type": "markdown",
   "metadata": {},
   "source": [
    "Second graph with the behavior of Members and Casuals. We can see two different periods, Summer and Winter. \n",
    "\n",
    "On the first hand, in the winter, few riders accept to take to travel on a bicycle. For example, in February, only 26655 member riders and 7616 casual riders agreed to travel by bicycle. Their average time in Winter is the lowest (23 mn for casual and 15 for members).\n",
    "\n",
    "On the other hand, the number increased by 10 times for July. Indeed 260660 casual riders took the bicycle and 263915 member riders. \n",
    "\n",
    "Even if casual and members used to behave in the same way regarding the number of riders, their times are very different. Casual riders take more time than member riders. (On average more than 30mn in summer)\n",
    "Summer is surely the pic season for Cyclistic as a lot of people are using it daily. \n",
    "\n",
    "Casual riders can be a rider who is interesting to take the bike only for a moment and spend time. \n",
    "They can also be a tourist who comes into Chicago and wants to take the bike to visit the city, especially in summer. \n"
   ]
  },
  {
   "cell_type": "code",
   "execution_count": 41,
   "metadata": {},
   "outputs": [
    {
     "data": {
      "text/plain": [
       "rideable_type\n",
       "classic_bike     12.020415\n",
       "docked_bike      75.718971\n",
       "electric_bike    12.260614\n",
       "Name: member, dtype: float64"
      ]
     },
     "execution_count": 41,
     "metadata": {},
     "output_type": "execute_result"
    }
   ],
   "source": [
    "#The % of member using different bikes\n",
    "member_df.groupby('rideable_type')['member'].count() / member_df['member'].count()*100"
   ]
  },
  {
   "cell_type": "code",
   "execution_count": 42,
   "metadata": {},
   "outputs": [
    {
     "data": {
      "text/plain": [
       "rideable_type\n",
       "classic_bike      5.058144\n",
       "docked_bike      83.546855\n",
       "electric_bike    11.395001\n",
       "Name: casual, dtype: float64"
      ]
     },
     "execution_count": 42,
     "metadata": {},
     "output_type": "execute_result"
    }
   ],
   "source": [
    "#The % of casual using different bikes\n",
    "casual_df.groupby('rideable_type')['casual'].count() / casual_df['casual'].count()*100"
   ]
  },
  {
   "cell_type": "markdown",
   "metadata": {},
   "source": [
    "We can see the percentage. There is not a lot to say about those numbers. \n",
    "Docked_bike is the most used bike. There is also a difference between members and casuals. \n",
    "\n",
    "75 % of the members are using it instead of 83 % of casuals riders."
   ]
  },
  {
   "cell_type": "code",
   "execution_count": null,
   "metadata": {},
   "outputs": [],
   "source": []
  },
  {
   "cell_type": "code",
   "execution_count": null,
   "metadata": {},
   "outputs": [],
   "source": []
  },
  {
   "cell_type": "code",
   "execution_count": 47,
   "metadata": {},
   "outputs": [],
   "source": [
    "#Is it correlated to the temperature ? \n",
    "#Took average degrees from this site: https://www.climatsetvoyages.com/climat/etats-unis/chicago\n",
    "Temperature = {'Temperature':[-4.6,-2.4,3.2,9.4,15.1,20.5,23.3,22.4,18.1,11.4,4.6,-2.3]}\n",
    "mc_monthtime['temperature'] = pd.DataFrame(Temperature)"
   ]
  },
  {
   "cell_type": "code",
   "execution_count": 48,
   "metadata": {},
   "outputs": [
    {
     "data": {
      "text/html": [
       "<div>\n",
       "<style scoped>\n",
       "    .dataframe tbody tr th:only-of-type {\n",
       "        vertical-align: middle;\n",
       "    }\n",
       "\n",
       "    .dataframe tbody tr th {\n",
       "        vertical-align: top;\n",
       "    }\n",
       "\n",
       "    .dataframe thead th {\n",
       "        text-align: right;\n",
       "    }\n",
       "</style>\n",
       "<table border=\"1\" class=\"dataframe\">\n",
       "  <thead>\n",
       "    <tr style=\"text-align: right;\">\n",
       "      <th></th>\n",
       "      <th>month</th>\n",
       "      <th>member</th>\n",
       "      <th>avg_member_time</th>\n",
       "      <th>casual</th>\n",
       "      <th>avg_casual_time</th>\n",
       "      <th>temperature</th>\n",
       "    </tr>\n",
       "  </thead>\n",
       "  <tbody>\n",
       "    <tr>\n",
       "      <th>0</th>\n",
       "      <td>1</td>\n",
       "      <td>49566</td>\n",
       "      <td>14</td>\n",
       "      <td>12447</td>\n",
       "      <td>22</td>\n",
       "      <td>-4.6</td>\n",
       "    </tr>\n",
       "    <tr>\n",
       "      <th>1</th>\n",
       "      <td>2</td>\n",
       "      <td>26945</td>\n",
       "      <td>16</td>\n",
       "      <td>7657</td>\n",
       "      <td>28</td>\n",
       "      <td>-2.4</td>\n",
       "    </tr>\n",
       "    <tr>\n",
       "      <th>2</th>\n",
       "      <td>3</td>\n",
       "      <td>98771</td>\n",
       "      <td>16</td>\n",
       "      <td>68301</td>\n",
       "      <td>31</td>\n",
       "      <td>3.2</td>\n",
       "    </tr>\n",
       "    <tr>\n",
       "      <th>3</th>\n",
       "      <td>4</td>\n",
       "      <td>50851</td>\n",
       "      <td>19</td>\n",
       "      <td>22152</td>\n",
       "      <td>35</td>\n",
       "      <td>9.4</td>\n",
       "    </tr>\n",
       "    <tr>\n",
       "      <th>4</th>\n",
       "      <td>5</td>\n",
       "      <td>97301</td>\n",
       "      <td>21</td>\n",
       "      <td>81642</td>\n",
       "      <td>39</td>\n",
       "      <td>15.1</td>\n",
       "    </tr>\n",
       "  </tbody>\n",
       "</table>\n",
       "</div>"
      ],
      "text/plain": [
       "   month  member  avg_member_time  casual  avg_casual_time  temperature\n",
       "0      1   49566               14   12447               22         -4.6\n",
       "1      2   26945               16    7657               28         -2.4\n",
       "2      3   98771               16   68301               31          3.2\n",
       "3      4   50851               19   22152               35          9.4\n",
       "4      5   97301               21   81642               39         15.1"
      ]
     },
     "execution_count": 48,
     "metadata": {},
     "output_type": "execute_result"
    }
   ],
   "source": [
    "mc_monthtime['temperature'] = pd.DataFrame(Temperature)\n",
    "mc_monthtime.head()"
   ]
  },
  {
   "cell_type": "code",
   "execution_count": 49,
   "metadata": {},
   "outputs": [
    {
     "data": {
      "text/plain": [
       "Text(36.99999999999999, 0.5, 'User amount and time')"
      ]
     },
     "execution_count": 49,
     "metadata": {},
     "output_type": "execute_result"
    },
    {
     "data": {
      "image/png": "[encoded data removed]",
      "text/plain": [
       "<Figure size 432x288 with 2 Axes>"
      ]
     },
     "metadata": {
      "needs_background": "light"
     },
     "output_type": "display_data"
    }
   ],
   "source": [
    "correlated_matrix = mc_monthtime.corr(method='pearson')\n",
    "sns.heatmap(correlated_matrix, annot=True)\n",
    "\n",
    "plt.title('Correlation between temperature and time')\n",
    "\n",
    "plt.xlabel('User amount and time')\n",
    "\n",
    "plt.ylabel('User amount and time')"
   ]
  },
  {
   "cell_type": "markdown",
   "metadata": {},
   "source": [
    "I took the average temperature at Chicago and try to plot a heatmap, we can see the correlation between Temperature and the time spent by riders are highly correlated. \n",
    "(0.86 for number of Members and 0.89 for the number of casual riders and 0.73 for average_member_time and 0.83 for average_casual_time."
   ]
  },
  {
   "cell_type": "markdown",
   "metadata": {},
   "source": [
    "## Conclusion"
   ]
  },
  {
   "cell_type": "markdown",
   "metadata": {},
   "source": [
    "How do annual members and casual riders use Cyclistic bikes differently? \n",
    "In summary:\n",
    "Casuals are more willing to riders than members on weekends rather than on weekdays \n",
    "Their average time on weekends is higher than on weekdays \n",
    "\n",
    "Most members and casuals spent their time in summer and we can see the average time spent on a bike and the number of riders are highly correlated to the temperature at Chicago. \n",
    "\n",
    "So, why would casual riders buy Cyclistic annual memberships? \n",
    "It may cost less money on average with annual memberships. A lot of casuals are using the bike on weekends and in summer.\n",
    "\n",
    "How can Cyclistic use digital media to influence casual riders to become members? \n",
    "Select people who live in Chicago. Take the price as a member and show how much someone can save if a casual rider decides to become a member."
   ]
  },
  {
   "cell_type": "code",
   "execution_count": null,
   "metadata": {},
   "outputs": [],
   "source": []
  }
 ],
 "metadata": {
  "kernelspec": {
   "display_name": "Python 3",
   "language": "python",
   "name": "python3"
  },
  "language_info": {
   "codemirror_mode": {
    "name": "ipython",
    "version": 3
   },
   "file_extension": ".py",
   "mimetype": "text/x-python",
   "name": "python",
   "nbconvert_exporter": "python",
   "pygments_lexer": "ipython3",
   "version": "3.8.5"
  }
 },
 "nbformat": 4,
 "nbformat_minor": 4
}
