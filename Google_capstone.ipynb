{
 "cells": [
  {
   "cell_type": "code",
   "execution_count": 2,
   "metadata": {},
   "outputs": [],
   "source": [
    "import pandas as pd\n",
    "import numpy as np\n",
    "import matplotlib as plt\n",
    "import plotly.express as px\n",
    "import seaborn as sns"
   ]
  },
  {
   "cell_type": "code",
   "execution_count": 3,
   "metadata": {},
   "outputs": [],
   "source": [
    "df420 = pd.read_csv(r'C:\\Users\\roman\\OneDrive\\Bureau\\python_data\\ride_bicycle_data\\2020_04_bicycle.csv')\n",
    "df520 = pd.read_csv(r'C:\\Users\\roman\\OneDrive\\Bureau\\python_data\\ride_bicycle_data\\2020_05_bicycle.csv')\n",
    "df620 = pd.read_csv(r'C:\\Users\\roman\\OneDrive\\Bureau\\python_data\\ride_bicycle_data\\2020_06_bicycle.csv')\n",
    "df720 = pd.read_csv(r'C:\\Users\\roman\\OneDrive\\Bureau\\python_data\\ride_bicycle_data\\2020_07_bicycle.csv')\n",
    "df820 = pd.read_csv(r'C:\\Users\\roman\\OneDrive\\Bureau\\python_data\\ride_bicycle_data\\2020_08_bicycle.csv')\n",
    "df920 = pd.read_csv(r'C:\\Users\\roman\\OneDrive\\Bureau\\python_data\\ride_bicycle_data\\2020_09_bicycle.csv')\n",
    "df1020 = pd.read_csv(r'C:\\Users\\roman\\OneDrive\\Bureau\\python_data\\ride_bicycle_data\\2020_10_bicycle.csv')\n",
    "df1120 = pd.read_csv(r'C:\\Users\\roman\\OneDrive\\Bureau\\python_data\\ride_bicycle_data\\2020_11_bicycle.csv')\n",
    "df1220 = pd.read_csv(r'C:\\Users\\roman\\OneDrive\\Bureau\\python_data\\ride_bicycle_data\\2020_12_bicycle.csv')\n",
    "df121 = pd.read_csv(r'C:\\Users\\roman\\OneDrive\\Bureau\\python_data\\ride_bicycle_data\\2021_01_bicycle.csv')\n",
    "df221 = pd.read_csv(r'C:\\Users\\roman\\OneDrive\\Bureau\\python_data\\ride_bicycle_data\\2021_02_bicycle.csv')\n",
    "df321 = pd.read_csv(r'C:\\Users\\roman\\OneDrive\\Bureau\\python_data\\ride_bicycle_data\\2021_03_bicycle.csv')"
   ]
  },
  {
   "cell_type": "code",
   "execution_count": 4,
   "metadata": {},
   "outputs": [],
   "source": [
    "df = pd.concat([df420, df520, df620, df720, df820, df920,\n",
    "                df1020, df1120, df1220, df121, df221,\n",
    "                df321], sort=False)"
   ]
  },
  {
   "cell_type": "code",
   "execution_count": 74,
   "metadata": {},
   "outputs": [
    {
     "data": {
      "text/html": [
       "<div>\n",
       "<style scoped>\n",
       "    .dataframe tbody tr th:only-of-type {\n",
       "        vertical-align: middle;\n",
       "    }\n",
       "\n",
       "    .dataframe tbody tr th {\n",
       "        vertical-align: top;\n",
       "    }\n",
       "\n",
       "    .dataframe thead th {\n",
       "        text-align: right;\n",
       "    }\n",
       "</style>\n",
       "<table border=\"1\" class=\"dataframe\">\n",
       "  <thead>\n",
       "    <tr style=\"text-align: right;\">\n",
       "      <th></th>\n",
       "      <th>ride_id</th>\n",
       "      <th>rideable_type</th>\n",
       "      <th>started_at</th>\n",
       "      <th>ended_at</th>\n",
       "      <th>start_station_name</th>\n",
       "      <th>start_station_id</th>\n",
       "      <th>end_station_name</th>\n",
       "      <th>end_station_id</th>\n",
       "      <th>start_lat</th>\n",
       "      <th>start_lng</th>\n",
       "      <th>end_lat</th>\n",
       "      <th>end_lng</th>\n",
       "      <th>member_casual</th>\n",
       "      <th>time</th>\n",
       "      <th>day</th>\n",
       "    </tr>\n",
       "  </thead>\n",
       "  <tbody>\n",
       "    <tr>\n",
       "      <th>0</th>\n",
       "      <td>A847FADBBC638E45</td>\n",
       "      <td>docked_bike</td>\n",
       "      <td>2020-04-26 17:45:14</td>\n",
       "      <td>2020-04-26 18:12:03</td>\n",
       "      <td>Eckhart Park</td>\n",
       "      <td>86</td>\n",
       "      <td>Lincoln Ave &amp; Diversey Pkwy</td>\n",
       "      <td>152</td>\n",
       "      <td>41.8964</td>\n",
       "      <td>-87.6610</td>\n",
       "      <td>41.9322</td>\n",
       "      <td>-87.6586</td>\n",
       "      <td>member</td>\n",
       "      <td>26.816667</td>\n",
       "      <td>Sunday</td>\n",
       "    </tr>\n",
       "    <tr>\n",
       "      <th>1</th>\n",
       "      <td>5405B80E996FF60D</td>\n",
       "      <td>docked_bike</td>\n",
       "      <td>2020-04-17 17:08:54</td>\n",
       "      <td>2020-04-17 17:17:03</td>\n",
       "      <td>Drake Ave &amp; Fullerton Ave</td>\n",
       "      <td>503</td>\n",
       "      <td>Kosciuszko Park</td>\n",
       "      <td>499</td>\n",
       "      <td>41.9244</td>\n",
       "      <td>-87.7154</td>\n",
       "      <td>41.9306</td>\n",
       "      <td>-87.7238</td>\n",
       "      <td>member</td>\n",
       "      <td>8.150000</td>\n",
       "      <td>Friday</td>\n",
       "    </tr>\n",
       "    <tr>\n",
       "      <th>2</th>\n",
       "      <td>5DD24A79A4E006F4</td>\n",
       "      <td>docked_bike</td>\n",
       "      <td>2020-04-01 17:54:13</td>\n",
       "      <td>2020-04-01 18:08:36</td>\n",
       "      <td>McClurg Ct &amp; Erie St</td>\n",
       "      <td>142</td>\n",
       "      <td>Indiana Ave &amp; Roosevelt Rd</td>\n",
       "      <td>255</td>\n",
       "      <td>41.8945</td>\n",
       "      <td>-87.6179</td>\n",
       "      <td>41.8679</td>\n",
       "      <td>-87.6230</td>\n",
       "      <td>member</td>\n",
       "      <td>14.383333</td>\n",
       "      <td>Wednesday</td>\n",
       "    </tr>\n",
       "    <tr>\n",
       "      <th>3</th>\n",
       "      <td>2A59BBDF5CDBA725</td>\n",
       "      <td>docked_bike</td>\n",
       "      <td>2020-04-07 12:50:19</td>\n",
       "      <td>2020-04-07 13:02:31</td>\n",
       "      <td>California Ave &amp; Division St</td>\n",
       "      <td>216</td>\n",
       "      <td>Wood St &amp; Augusta Blvd</td>\n",
       "      <td>657</td>\n",
       "      <td>41.9030</td>\n",
       "      <td>-87.6975</td>\n",
       "      <td>41.8992</td>\n",
       "      <td>-87.6722</td>\n",
       "      <td>member</td>\n",
       "      <td>12.200000</td>\n",
       "      <td>Tuesday</td>\n",
       "    </tr>\n",
       "    <tr>\n",
       "      <th>4</th>\n",
       "      <td>27AD306C119C6158</td>\n",
       "      <td>docked_bike</td>\n",
       "      <td>2020-04-18 10:22:59</td>\n",
       "      <td>2020-04-18 11:15:54</td>\n",
       "      <td>Rush St &amp; Hubbard St</td>\n",
       "      <td>125</td>\n",
       "      <td>Sheridan Rd &amp; Lawrence Ave</td>\n",
       "      <td>323</td>\n",
       "      <td>41.8902</td>\n",
       "      <td>-87.6262</td>\n",
       "      <td>41.9695</td>\n",
       "      <td>-87.6547</td>\n",
       "      <td>casual</td>\n",
       "      <td>52.916667</td>\n",
       "      <td>Saturday</td>\n",
       "    </tr>\n",
       "  </tbody>\n",
       "</table>\n",
       "</div>"
      ],
      "text/plain": [
       "            ride_id rideable_type          started_at            ended_at  \\\n",
       "0  A847FADBBC638E45   docked_bike 2020-04-26 17:45:14 2020-04-26 18:12:03   \n",
       "1  5405B80E996FF60D   docked_bike 2020-04-17 17:08:54 2020-04-17 17:17:03   \n",
       "2  5DD24A79A4E006F4   docked_bike 2020-04-01 17:54:13 2020-04-01 18:08:36   \n",
       "3  2A59BBDF5CDBA725   docked_bike 2020-04-07 12:50:19 2020-04-07 13:02:31   \n",
       "4  27AD306C119C6158   docked_bike 2020-04-18 10:22:59 2020-04-18 11:15:54   \n",
       "\n",
       "             start_station_name start_station_id             end_station_name  \\\n",
       "0                  Eckhart Park               86  Lincoln Ave & Diversey Pkwy   \n",
       "1     Drake Ave & Fullerton Ave              503              Kosciuszko Park   \n",
       "2          McClurg Ct & Erie St              142   Indiana Ave & Roosevelt Rd   \n",
       "3  California Ave & Division St              216       Wood St & Augusta Blvd   \n",
       "4          Rush St & Hubbard St              125   Sheridan Rd & Lawrence Ave   \n",
       "\n",
       "  end_station_id  start_lat  start_lng  end_lat  end_lng member_casual  \\\n",
       "0            152    41.8964   -87.6610  41.9322 -87.6586        member   \n",
       "1            499    41.9244   -87.7154  41.9306 -87.7238        member   \n",
       "2            255    41.8945   -87.6179  41.8679 -87.6230        member   \n",
       "3            657    41.9030   -87.6975  41.8992 -87.6722        member   \n",
       "4            323    41.8902   -87.6262  41.9695 -87.6547        casual   \n",
       "\n",
       "        time        day  \n",
       "0  26.816667     Sunday  \n",
       "1   8.150000     Friday  \n",
       "2  14.383333  Wednesday  \n",
       "3  12.200000    Tuesday  \n",
       "4  52.916667   Saturday  "
      ]
     },
     "execution_count": 74,
     "metadata": {},
     "output_type": "execute_result"
    }
   ],
   "source": [
    "#Check duplicates rows\n",
    "df.drop_duplicates().head()"
   ]
  },
  {
   "cell_type": "code",
   "execution_count": 7,
   "metadata": {},
   "outputs": [
    {
     "data": {
      "text/plain": [
       "\"\\nLess than 5 % of the data is missing, so we don't need to remove anything\\n\""
      ]
     },
     "execution_count": 7,
     "metadata": {},
     "output_type": "execute_result"
    }
   ],
   "source": [
    "#check missing value\n",
    "total = df.isnull().sum().sort_values(ascending = False)\n",
    "percent = (df.isnull().sum() / df.isnull().count()).sort_values(ascending=False)\n",
    "miss_data = pd.concat([total, percent], axis = 1, keys=['Total', 'Percent']) #Only 99 missing data on station ID, nothing to worry about it\n",
    "\n",
    "miss_data\n",
    "\"\"\"\n",
    "Less than 5 % of the data is missing, so we don't need to remove anything\n",
    "\"\"\""
   ]
  },
  {
   "cell_type": "code",
   "execution_count": 8,
   "metadata": {},
   "outputs": [],
   "source": [
    "#change date to calculate the time\n",
    "df['started_at'] = pd.to_datetime(df['started_at'])\n",
    "df['ended_at'] = pd.to_datetime(df['ended_at'])"
   ]
  },
  {
   "cell_type": "code",
   "execution_count": 9,
   "metadata": {},
   "outputs": [],
   "source": [
    "#Create variable time\n",
    "df['time'] = df['ended_at'] - df['started_at'] \n",
    "df['time'] = df['time'].dt.total_seconds()/60"
   ]
  },
  {
   "cell_type": "code",
   "execution_count": 10,
   "metadata": {},
   "outputs": [],
   "source": [
    "df['day'] = pd.to_datetime(df['started_at'], format = '%Y-%m-%d %I-%p')\n",
    "df['day'] = df['day'].dt.day_name()"
   ]
  },
  {
   "cell_type": "code",
   "execution_count": 11,
   "metadata": {},
   "outputs": [
    {
     "data": {
      "text/plain": [
       "count    3489748\n",
       "mean          24\n",
       "std          390\n",
       "min       -29049\n",
       "25%            7\n",
       "50%           14\n",
       "75%           26\n",
       "max        58720\n",
       "Name: time, dtype: int32"
      ]
     },
     "execution_count": 11,
     "metadata": {},
     "output_type": "execute_result"
    }
   ],
   "source": [
    "df['time'].describe().astype('int')\n",
    "#We can see time spent by riders can be a negative number, which is can't be correct. So it means we need to clean all the data that has a ended_at > started_at."
   ]
  },
  {
   "cell_type": "code",
   "execution_count": 12,
   "metadata": {},
   "outputs": [
    {
     "data": {
      "text/plain": [
       "'\\nSome of the station was used only one in the past 12 months, so we can take it out of the dataset as it is not representative to our database\\n'"
      ]
     },
     "execution_count": 12,
     "metadata": {},
     "output_type": "execute_result"
    }
   ],
   "source": [
    "#Counts the most used station\n",
    "station_count = df['start_station_name'].value_counts().reset_index(name='Counts')\n",
    "station_count.rename(columns={'index': 'start_station_name'}, inplace=True)\n",
    "station_count\n",
    "\n",
    "\"\"\"\n",
    "Some of the station was used only one in the past 12 months, so we can take it out of the dataset as it is not representative to our database\n",
    "\"\"\""
   ]
  },
  {
   "cell_type": "code",
   "execution_count": 13,
   "metadata": {},
   "outputs": [],
   "source": [
    "#For a station to be taken into account, it must be at least used 100 in the last 12 months\n",
    "station_count.drop(station_count.index[station_count['Counts'] <= 100], inplace=True)"
   ]
  },
  {
   "cell_type": "code",
   "execution_count": 14,
   "metadata": {},
   "outputs": [
    {
     "data": {
      "text/html": [
       "<div>\n",
       "<style scoped>\n",
       "    .dataframe tbody tr th:only-of-type {\n",
       "        vertical-align: middle;\n",
       "    }\n",
       "\n",
       "    .dataframe tbody tr th {\n",
       "        vertical-align: top;\n",
       "    }\n",
       "\n",
       "    .dataframe thead th {\n",
       "        text-align: right;\n",
       "    }\n",
       "</style>\n",
       "<table border=\"1\" class=\"dataframe\">\n",
       "  <thead>\n",
       "    <tr style=\"text-align: right;\">\n",
       "      <th></th>\n",
       "      <th>start_station_name</th>\n",
       "      <th>Counts</th>\n",
       "    </tr>\n",
       "  </thead>\n",
       "  <tbody>\n",
       "    <tr>\n",
       "      <th>603</th>\n",
       "      <td>Eberhart Ave &amp; 91st St</td>\n",
       "      <td>111</td>\n",
       "    </tr>\n",
       "    <tr>\n",
       "      <th>604</th>\n",
       "      <td>Kenton Ave &amp; Madison St</td>\n",
       "      <td>108</td>\n",
       "    </tr>\n",
       "    <tr>\n",
       "      <th>605</th>\n",
       "      <td>Halsted St &amp; 51st St</td>\n",
       "      <td>106</td>\n",
       "    </tr>\n",
       "    <tr>\n",
       "      <th>606</th>\n",
       "      <td>Elizabeth St &amp; 47th St</td>\n",
       "      <td>104</td>\n",
       "    </tr>\n",
       "    <tr>\n",
       "      <th>607</th>\n",
       "      <td>Malcolm X College Vaccination Site</td>\n",
       "      <td>101</td>\n",
       "    </tr>\n",
       "  </tbody>\n",
       "</table>\n",
       "</div>"
      ],
      "text/plain": [
       "                     start_station_name  Counts\n",
       "603              Eberhart Ave & 91st St     111\n",
       "604             Kenton Ave & Madison St     108\n",
       "605                Halsted St & 51st St     106\n",
       "606              Elizabeth St & 47th St     104\n",
       "607  Malcolm X College Vaccination Site     101"
      ]
     },
     "execution_count": 14,
     "metadata": {},
     "output_type": "execute_result"
    }
   ],
   "source": [
    "station_count.tail()"
   ]
  },
  {
   "cell_type": "code",
   "execution_count": 15,
   "metadata": {},
   "outputs": [],
   "source": [
    "#Merge the most used stations to the dataset\n",
    "merged_df = df.merge(station_count, how = 'inner', on = ['start_station_name'])"
   ]
  },
  {
   "cell_type": "code",
   "execution_count": 16,
   "metadata": {},
   "outputs": [],
   "source": [
    "#Do the same for the end_station_count\n",
    "end_station_count = merged_df['end_station_name'].value_counts().reset_index(name='Counts')\n",
    "end_station_count.rename(columns={'index':'end_station_name'}, inplace=True)"
   ]
  },
  {
   "cell_type": "code",
   "execution_count": 17,
   "metadata": {},
   "outputs": [],
   "source": [
    "#Delete station visited less than a 100 times (end_station_name)\n",
    "end_station_count.drop(end_station_count.index[end_station_count['Counts'] <= 100], inplace=True)"
   ]
  },
  {
   "cell_type": "code",
   "execution_count": 18,
   "metadata": {},
   "outputs": [],
   "source": [
    "#merged with merged_df \n",
    "merged_df = merged_df.merge(end_station_count, how = 'inner', on = ['end_station_name'])\n",
    "merged_df.drop(['Counts_x', 'Counts_y'], axis = 1, inplace = True) "
   ]
  },
  {
   "cell_type": "code",
   "execution_count": 20,
   "metadata": {},
   "outputs": [],
   "source": [
    "import datetime\n",
    "#get the month with another column \n",
    "merged_df['month'] = merged_df['started_at'].dt.month"
   ]
  },
  {
   "cell_type": "code",
   "execution_count": 19,
   "metadata": {},
   "outputs": [],
   "source": [
    "import sweetviz as sv"
   ]
  },
  {
   "cell_type": "code",
   "execution_count": 20,
   "metadata": {},
   "outputs": [
    {
     "data": {
      "application/vnd.jupyter.widget-view+json": {
       "model_id": "12f17279e62d41099f84447d82b6bd4c",
       "version_major": 2,
       "version_minor": 0
      },
      "text/plain": [
       "HBox(children=(HTML(value=''), FloatProgress(value=0.0, layout=Layout(flex='2'), max=9.0), HTML(value='')), la…"
      ]
     },
     "metadata": {},
     "output_type": "display_data"
    },
    {
     "name": "stdout",
     "output_type": "stream",
     "text": [
      "\n",
      "Report SWEETVIZ_REPORT.html was generated! NOTEBOOK/COLAB USERS: the web browser MAY not pop up, regardless, the report IS saved in your notebook/colab files.\n"
     ]
    }
   ],
   "source": [
    "df_report = merged_df[['ride_id','rideable_type','member_casual', 'time', 'day','month', 'start_station_name','end_station_name']]\n",
    "report=sv.analyze(df_report)\n",
    "report.show_html()\n",
    "\n",
    "\"\"\"\n",
    "We can see that ride_id can't be analysed as almost all of them are differents\n",
    "The most used bike is docked_bike at 78%\n",
    "There are more members than casuals\n",
    "Week days are the busiest days\n",
    "people tend to do bike especially in summer\n",
    "\"\"\""
   ]
  },
  {
   "cell_type": "code",
   "execution_count": 21,
   "metadata": {},
   "outputs": [
    {
     "data": {
      "text/plain": [
       "'\\nwe know that time distribution is skewed to the right.\\n'"
      ]
     },
     "execution_count": 21,
     "metadata": {},
     "output_type": "execute_result"
    }
   ],
   "source": [
    "#Delete the outliers and keep all the rows that can be interesting\n",
    "merged_df = merged_df[(merged_df.time < merged_df.time.quantile(.995)) & (merged_df.time > merged_df.time.quantile(.15))]\n",
    "\n",
    "\"\"\"\n",
    "we know that time distribution is skewed to the right.\n",
    "\"\"\""
   ]
  },
  {
   "cell_type": "code",
   "execution_count": 26,
   "metadata": {},
   "outputs": [
    {
     "data": {
      "text/plain": [
       "<AxesSubplot:>"
      ]
     },
     "execution_count": 26,
     "metadata": {},
     "output_type": "execute_result"
    },
    {
     "data": {
      "image/png": "[encoded data removed]",
      "text/plain": [
       "<Figure size 432x288 with 1 Axes>"
      ]
     },
     "metadata": {
      "needs_background": "light"
     },
     "output_type": "display_data"
    }
   ],
   "source": [
    "merged_df.boxplot('time')"
   ]
  },
  {
   "cell_type": "code",
   "execution_count": 36,
   "metadata": {},
   "outputs": [],
   "source": [
    "#separate casual and member data\n",
    "casual_df = merged_df[merged_df['member_casual'] == 'casual']\n",
    "casual_df = casual_df.rename(columns={'member_casual':'casual'})\n",
    "member_df = merged_df[merged_df['member_casual'] == 'member']\n",
    "member_df = member_df.rename(columns={'member_casual':'member'})"
   ]
  },
  {
   "cell_type": "code",
   "execution_count": 37,
   "metadata": {
    "tags": []
   },
   "outputs": [],
   "source": [
    "#Get the mean time spent by riders per day as a casual\n",
    "casual_daytime = casual_df.groupby(\"day\").agg({'casual':'count',\n",
    "                                               'time':'mean'}).astype('int')\n",
    "casual_daytime = casual_daytime.reset_index()\n",
    "casual_daytime = casual_daytime.rename(columns={'time':'casual_time'})"
   ]
  },
  {
   "cell_type": "code",
   "execution_count": 38,
   "metadata": {},
   "outputs": [],
   "source": [
    "#Get the mean time spent by riders per day as a member\n",
    "member_daytime = member_df.groupby(\"day\").agg({'member':'count',\n",
    "                                               'time':'mean'}).astype('int')\n",
    "member_daytime = member_daytime.reset_index()\n",
    "member_daytime = member_daytime.rename(columns={'time':'member_time',\n",
    "                                               'day':'day1'})"
   ]
  },
  {
   "cell_type": "code",
   "execution_count": 39,
   "metadata": {},
   "outputs": [],
   "source": [
    "mc_daytime = pd.concat([casual_daytime, member_daytime], axis=1)\n",
    "mc_daytime.drop(['day1'], axis=1, inplace=True)"
   ]
  },
  {
   "cell_type": "code",
   "execution_count": 75,
   "metadata": {},
   "outputs": [
    {
     "data": {
      "text/html": [
       "<div>\n",
       "<style scoped>\n",
       "    .dataframe tbody tr th:only-of-type {\n",
       "        vertical-align: middle;\n",
       "    }\n",
       "\n",
       "    .dataframe tbody tr th {\n",
       "        vertical-align: top;\n",
       "    }\n",
       "\n",
       "    .dataframe thead th {\n",
       "        text-align: right;\n",
       "    }\n",
       "</style>\n",
       "<table border=\"1\" class=\"dataframe\">\n",
       "  <thead>\n",
       "    <tr style=\"text-align: right;\">\n",
       "      <th></th>\n",
       "      <th>day</th>\n",
       "      <th>casual</th>\n",
       "      <th>casual_time</th>\n",
       "      <th>member</th>\n",
       "      <th>member_time</th>\n",
       "    </tr>\n",
       "  </thead>\n",
       "  <tbody>\n",
       "    <tr>\n",
       "      <th>1</th>\n",
       "      <td>Monday</td>\n",
       "      <td>129202</td>\n",
       "      <td>34</td>\n",
       "      <td>196201</td>\n",
       "      <td>17</td>\n",
       "    </tr>\n",
       "    <tr>\n",
       "      <th>5</th>\n",
       "      <td>Tuesday</td>\n",
       "      <td>123562</td>\n",
       "      <td>32</td>\n",
       "      <td>209581</td>\n",
       "      <td>17</td>\n",
       "    </tr>\n",
       "    <tr>\n",
       "      <th>6</th>\n",
       "      <td>Wednesday</td>\n",
       "      <td>134600</td>\n",
       "      <td>31</td>\n",
       "      <td>226523</td>\n",
       "      <td>17</td>\n",
       "    </tr>\n",
       "    <tr>\n",
       "      <th>4</th>\n",
       "      <td>Thursday</td>\n",
       "      <td>141860</td>\n",
       "      <td>31</td>\n",
       "      <td>223071</td>\n",
       "      <td>17</td>\n",
       "    </tr>\n",
       "    <tr>\n",
       "      <th>0</th>\n",
       "      <td>Friday</td>\n",
       "      <td>179500</td>\n",
       "      <td>32</td>\n",
       "      <td>229026</td>\n",
       "      <td>17</td>\n",
       "    </tr>\n",
       "  </tbody>\n",
       "</table>\n",
       "</div>"
      ],
      "text/plain": [
       "         day  casual  casual_time  member  member_time\n",
       "1     Monday  129202           34  196201           17\n",
       "5    Tuesday  123562           32  209581           17\n",
       "6  Wednesday  134600           31  226523           17\n",
       "4   Thursday  141860           31  223071           17\n",
       "0     Friday  179500           32  229026           17"
      ]
     },
     "execution_count": 75,
     "metadata": {},
     "output_type": "execute_result"
    }
   ],
   "source": [
    "mc_daytime.head()"
   ]
  },
  {
   "cell_type": "code",
   "execution_count": 41,
   "metadata": {},
   "outputs": [],
   "source": [
    "cats = ['Monday', 'Tuesday', 'Wednesday', 'Thursday', 'Friday', 'Saturday', 'Sunday']\n",
    "mc_daytime['day'] = pd.Categorical(mc_daytime['day'], categories=cats, ordered=True)\n",
    "mc_daytime = mc_daytime.sort_values('day')"
   ]
  },
  {
   "cell_type": "code",
   "execution_count": 76,
   "metadata": {},
   "outputs": [
    {
     "data": {
      "text/html": [
       "<div>\n",
       "<style scoped>\n",
       "    .dataframe tbody tr th:only-of-type {\n",
       "        vertical-align: middle;\n",
       "    }\n",
       "\n",
       "    .dataframe tbody tr th {\n",
       "        vertical-align: top;\n",
       "    }\n",
       "\n",
       "    .dataframe thead th {\n",
       "        text-align: right;\n",
       "    }\n",
       "</style>\n",
       "<table border=\"1\" class=\"dataframe\">\n",
       "  <thead>\n",
       "    <tr style=\"text-align: right;\">\n",
       "      <th></th>\n",
       "      <th>day</th>\n",
       "      <th>casual</th>\n",
       "      <th>casual_time</th>\n",
       "      <th>member</th>\n",
       "      <th>member_time</th>\n",
       "    </tr>\n",
       "  </thead>\n",
       "  <tbody>\n",
       "    <tr>\n",
       "      <th>1</th>\n",
       "      <td>Monday</td>\n",
       "      <td>129202</td>\n",
       "      <td>34</td>\n",
       "      <td>196201</td>\n",
       "      <td>17</td>\n",
       "    </tr>\n",
       "    <tr>\n",
       "      <th>5</th>\n",
       "      <td>Tuesday</td>\n",
       "      <td>123562</td>\n",
       "      <td>32</td>\n",
       "      <td>209581</td>\n",
       "      <td>17</td>\n",
       "    </tr>\n",
       "    <tr>\n",
       "      <th>6</th>\n",
       "      <td>Wednesday</td>\n",
       "      <td>134600</td>\n",
       "      <td>31</td>\n",
       "      <td>226523</td>\n",
       "      <td>17</td>\n",
       "    </tr>\n",
       "    <tr>\n",
       "      <th>4</th>\n",
       "      <td>Thursday</td>\n",
       "      <td>141860</td>\n",
       "      <td>31</td>\n",
       "      <td>223071</td>\n",
       "      <td>17</td>\n",
       "    </tr>\n",
       "    <tr>\n",
       "      <th>0</th>\n",
       "      <td>Friday</td>\n",
       "      <td>179500</td>\n",
       "      <td>32</td>\n",
       "      <td>229026</td>\n",
       "      <td>17</td>\n",
       "    </tr>\n",
       "  </tbody>\n",
       "</table>\n",
       "</div>"
      ],
      "text/plain": [
       "         day  casual  casual_time  member  member_time\n",
       "1     Monday  129202           34  196201           17\n",
       "5    Tuesday  123562           32  209581           17\n",
       "6  Wednesday  134600           31  226523           17\n",
       "4   Thursday  141860           31  223071           17\n",
       "0     Friday  179500           32  229026           17"
      ]
     },
     "execution_count": 76,
     "metadata": {},
     "output_type": "execute_result"
    }
   ],
   "source": [
    "mc_daytime.head()"
   ]
  },
  {
   "cell_type": "code",
   "execution_count": 44,
   "metadata": {},
   "outputs": [
    {
     "data": {
      "text/plain": [
       "Text(0.5, 1.0, 'Members / Casual riders comparaison per day and avg usage (mn)')"
      ]
     },
     "execution_count": 44,
     "metadata": {},
     "output_type": "execute_result"
    },
    {
     "data": {
      "image/png": "[encoded data removed]",
      "text/plain": [
       "<Figure size 1440x720 with 2 Axes>"
      ]
     },
     "metadata": {
      "needs_background": "light"
     },
     "output_type": "display_data"
    }
   ],
   "source": [
    "#Plot for data vizualisation\n",
    "import matplotlib.pyplot as plt\n",
    "%matplotlib inline\n",
    "\n",
    "w = 0.4\n",
    "x = mc_daytime['day']\n",
    "y1 = mc_daytime['casual']\n",
    "y2 = mc_daytime['member']\n",
    "y3 = mc_daytime['casual_time']\n",
    "y4 = mc_daytime['member_time']\n",
    "\n",
    "bar1 = np.arange(len(x))\n",
    "bar2 = [i+w for i in bar1]\n",
    "\n",
    "fig, ax = plt.subplots(figsize=(20, 10))\n",
    "ax2 = ax.twinx()\n",
    "\n",
    "ax.bar(bar1, y1,w, label='Casual', color = 'navy')\n",
    "ax.bar(bar2, y2,w, label='Member', color = 'crimson')\n",
    "ax2.plot(x, y3, color = 'blue', label='Casual time in minutes', linewidth=4.0)\n",
    "ax2.plot(x, y4, color = 'red', label='Member time in minutes', linewidth=4.0)\n",
    "ax.patch.set_facecolor('black')\n",
    "\n",
    "\n",
    "plt.grid(True)\n",
    "plt.xticks(bar1,x)\n",
    "ax.legend(loc=2)\n",
    "ax2.legend(loc=1)\n",
    "plt.xlabel('Days')\n",
    "ax.set_xlabel(\"Days\")\n",
    "ax.set_ylabel(\"Number of Member / Casual per day\")\n",
    "plt.ylabel('Casual / Member time in minutes')\n",
    "\n",
    "\n",
    "plt.title('Members / Casual riders comparaison per day and avg usage (mn)')"
   ]
  },
  {
   "cell_type": "code",
   "execution_count": 63,
   "metadata": {},
   "outputs": [
    {
     "data": {
      "text/plain": [
       "'\\nWe can see members and casuals behave differently.\\nMembers behavior does not change over the week, we can see a little increase on the week end as well as the average time spent on a bike\\nCasual has two kind of behaviors. \\nFirst: Most of the casuals hang out on week end, the data shows that on average, there are most casuals on a bike than members on the same day. \\nTheir average time also increased and can go up to 38mn on average. \\n\\nWhat is the thought about it ? \\nMembers are regular people who travels on a daily basis. \\nHowever, casual can be people who like to ride and have some fun, or tourist who wants to visit Chicago and are willing to pay only for one ride. \\n\\nFurther details are needed to know more about this analysis.\\n'"
      ]
     },
     "execution_count": 63,
     "metadata": {},
     "output_type": "execute_result"
    }
   ],
   "source": [
    "\"\"\"\n",
    "We can see members and casuals behave differently.\n",
    "Members behavior does not change over the week, we can see a little increase on the week end as well as the average time spent on a bike\n",
    "Casual has two kind of behaviors. \n",
    "First: Most of the casuals hang out on week end, the data shows that on average, there are most casuals on a bike than members on the same day. \n",
    "Their average time also increased and can go up to 38mn on average. \n",
    "\n",
    "What is the thought about it ? \n",
    "Members are regular people who travels on a daily basis. \n",
    "However, casual can be people who like to ride and have some fun, or tourist who wants to visit Chicago and are willing to pay only for one ride. \n",
    "\n",
    "This was a graph that took all the days from the last 12 months with the average riders in this given time. It is not sure that behaviors used to be the same at a given period.\n",
    "Further details are needed to know more about this analysis.\n",
    "\"\"\""
   ]
  },
  {
   "cell_type": "code",
   "execution_count": 64,
   "metadata": {},
   "outputs": [],
   "source": [
    "#Get the mean time spent by riders per day as a member\n",
    "member_monthtime = member_df.groupby(\"month\").agg({'member':'count',\n",
    "                                                   'time':'mean'}).astype('int')\n",
    "member_monthtime = member_monthtime.reset_index()\n",
    "member_monthtime.rename(columns={'time':'member_time'}, inplace=True)"
   ]
  },
  {
   "cell_type": "code",
   "execution_count": 65,
   "metadata": {},
   "outputs": [],
   "source": [
    "casual_monthtime = casual_df.groupby(\"month\").agg({'casual':'count',\n",
    "                                               'time':'mean'}).astype('int')\n",
    "casual_monthtime = casual_monthtime.reset_index()\n",
    "casual_monthtime.rename(columns={'time':'casual_time',\n",
    "                                 'month':'month1'}, inplace=True)"
   ]
  },
  {
   "cell_type": "code",
   "execution_count": 66,
   "metadata": {},
   "outputs": [],
   "source": [
    "mc_monthtime = pd.merge(member_monthtime, casual_monthtime, left_index=True, right_index=True)\n",
    "mc_monthtime.drop('month1', axis=1, inplace=True)"
   ]
  },
  {
   "cell_type": "code",
   "execution_count": 67,
   "metadata": {},
   "outputs": [
    {
     "data": {
      "text/html": [
       "<div>\n",
       "<style scoped>\n",
       "    .dataframe tbody tr th:only-of-type {\n",
       "        vertical-align: middle;\n",
       "    }\n",
       "\n",
       "    .dataframe tbody tr th {\n",
       "        vertical-align: top;\n",
       "    }\n",
       "\n",
       "    .dataframe thead th {\n",
       "        text-align: right;\n",
       "    }\n",
       "</style>\n",
       "<table border=\"1\" class=\"dataframe\">\n",
       "  <thead>\n",
       "    <tr style=\"text-align: right;\">\n",
       "      <th></th>\n",
       "      <th>month</th>\n",
       "      <th>member</th>\n",
       "      <th>member_time</th>\n",
       "      <th>casual</th>\n",
       "      <th>casual_time</th>\n",
       "    </tr>\n",
       "  </thead>\n",
       "  <tbody>\n",
       "    <tr>\n",
       "      <th>0</th>\n",
       "      <td>1</td>\n",
       "      <td>48940</td>\n",
       "      <td>15</td>\n",
       "      <td>12373</td>\n",
       "      <td>22</td>\n",
       "    </tr>\n",
       "    <tr>\n",
       "      <th>1</th>\n",
       "      <td>2</td>\n",
       "      <td>26655</td>\n",
       "      <td>16</td>\n",
       "      <td>7616</td>\n",
       "      <td>28</td>\n",
       "    </tr>\n",
       "    <tr>\n",
       "      <th>2</th>\n",
       "      <td>3</td>\n",
       "      <td>97821</td>\n",
       "      <td>16</td>\n",
       "      <td>68058</td>\n",
       "      <td>31</td>\n",
       "    </tr>\n",
       "    <tr>\n",
       "      <th>3</th>\n",
       "      <td>4</td>\n",
       "      <td>50531</td>\n",
       "      <td>19</td>\n",
       "      <td>22129</td>\n",
       "      <td>35</td>\n",
       "    </tr>\n",
       "    <tr>\n",
       "      <th>4</th>\n",
       "      <td>5</td>\n",
       "      <td>96785</td>\n",
       "      <td>21</td>\n",
       "      <td>81430</td>\n",
       "      <td>39</td>\n",
       "    </tr>\n",
       "  </tbody>\n",
       "</table>\n",
       "</div>"
      ],
      "text/plain": [
       "   month  member  member_time  casual  casual_time\n",
       "0      1   48940           15   12373           22\n",
       "1      2   26655           16    7616           28\n",
       "2      3   97821           16   68058           31\n",
       "3      4   50531           19   22129           35\n",
       "4      5   96785           21   81430           39"
      ]
     },
     "execution_count": 67,
     "metadata": {},
     "output_type": "execute_result"
    }
   ],
   "source": [
    "mc_monthtime.head()"
   ]
  },
  {
   "cell_type": "code",
   "execution_count": 70,
   "metadata": {},
   "outputs": [
    {
     "data": {
      "text/plain": [
       "Text(0.5, 1.0, 'Members / Casual riders comparaison per month and avg usage (mn)')"
      ]
     },
     "execution_count": 70,
     "metadata": {},
     "output_type": "execute_result"
    },
    {
     "data": {
      "image/png": "[encoded data removed]",
      "text/plain": [
       "<Figure size 1440x720 with 2 Axes>"
      ]
     },
     "metadata": {
      "needs_background": "light"
     },
     "output_type": "display_data"
    }
   ],
   "source": [
    "#Plot for data vizualisation\n",
    "\n",
    "w = 0.4\n",
    "x = mc_monthtime['month']\n",
    "y1 = mc_monthtime['casual']\n",
    "y2 = mc_monthtime['member']\n",
    "y3 = mc_monthtime['casual_time']\n",
    "y4 = mc_monthtime['member_time']\n",
    "\n",
    "bar1 = np.arange(len(x))\n",
    "bar2 = [i+w for i in bar1]\n",
    "\n",
    "fig, ax = plt.subplots(figsize=(20, 10))\n",
    "ax2 = ax.twinx()\n",
    "\n",
    "ax.bar(bar1, y1,w, label='Casual', color = 'navy')\n",
    "ax.bar(bar2, y2,w, label='Member', color = 'crimson')\n",
    "ax2.plot(x, y3, color = 'blue', label='Casual time in minutes', linewidth=4.0)\n",
    "ax2.plot(x, y4, color = 'red', label='Member time in minutes', linewidth=4.0)\n",
    "ax.patch.set_facecolor('black')\n",
    "\n",
    "\n",
    "plt.grid(True)\n",
    "plt.xticks(bar1,x)\n",
    "ax.legend(loc=2)\n",
    "ax2.legend(loc=1)\n",
    "ax.set_xlabel(\"Months\")\n",
    "ax.set_ylabel(\"Number of Member / Casual per month\")\n",
    "plt.ylabel('Casual / Member time in minutes')\n",
    "\n",
    "\n",
    "plt.title('Members / Casual riders comparaison per month and avg usage (mn)')"
   ]
  },
  {
   "cell_type": "code",
   "execution_count": null,
   "metadata": {},
   "outputs": [],
   "source": [
    "\"\"\"\n",
    "Members: \n",
    "Amount of people increase from january to august and begin to decrease after this date. \n",
    "Their time spent on aveerage increase and get his pick in june, then it decreased until the next year. We can see that the most higher time on average is in summer.\n",
    "Even if the time spent by people is bigger in summer, the difference is only about 5mn, so the spread of the average time tend to not change a lot.\n",
    "\n",
    "Casuals:\n",
    "Very few people in winter and most of them in summer. the spread is very high\n",
    "Also their time on average depend on the month. We can see it increased by a lot (increase by almost 15 points), keep this peak until august and decrease quickly in september.\n",
    "\n",
    "As we can see, behaviors are different and depend on a specific period. On a one hand, summer used to be the best season for riders to hung out with a bike. On the other hand, only few people accept to ride on a bike. \n",
    "\n",
    "So the new hypothesis is: Does the amount of riders is correlated to the temperature ? \n",
    "Further analysis is needed\n",
    "\"\"\""
   ]
  },
  {
   "cell_type": "code",
   "execution_count": 51,
   "metadata": {},
   "outputs": [
    {
     "data": {
      "text/plain": [
       "rideable_type\n",
       "classic_bike     11.992214\n",
       "docked_bike      75.784522\n",
       "electric_bike    12.223264\n",
       "Name: member, dtype: float64"
      ]
     },
     "execution_count": 51,
     "metadata": {},
     "output_type": "execute_result"
    }
   ],
   "source": [
    "#The % of member using different bikes\n",
    "member_df.groupby('rideable_type')['member'].count() / member_df['member'].count()*100"
   ]
  },
  {
   "cell_type": "code",
   "execution_count": 52,
   "metadata": {},
   "outputs": [
    {
     "data": {
      "text/plain": [
       "rideable_type\n",
       "classic_bike      5.052189\n",
       "docked_bike      83.582727\n",
       "electric_bike    11.365083\n",
       "Name: casual, dtype: float64"
      ]
     },
     "execution_count": 52,
     "metadata": {},
     "output_type": "execute_result"
    }
   ],
   "source": [
    "#The % of casual using different bikes\n",
    "casual_df.groupby('rideable_type')['casual'].count() / casual_df['casual'].count()*100"
   ]
  },
  {
   "cell_type": "code",
   "execution_count": null,
   "metadata": {},
   "outputs": [],
   "source": [
    "\"\"\"\n",
    "Next task to do: \n",
    "- Do a data cleaning with the end_station_name with the same way as I did in the start_station_name (done)\n",
    "- Change date title column to 'day' (done)\n",
    "- Add other columns 'month' and 'year' and look at the trend (done)\n",
    "- Create graphics to explain the trend\n",
    "- Check the hypothesis that the number of riders is correlated to the temperature\n",
    "This is for the first part of the project\n",
    "\n",
    "Second part:\n",
    "- Divide data set into 2 dataframe casual and member\n",
    "- Create a map of chicago\n",
    "- Put the ID on the map \n",
    "- Look at the travel, distance and accuracy of the time data (hypothesis to be sure the data fit the reality)\n",
    "- Check out the trend, most used travel given the person is member or casual \n",
    "- Do it on tableau \n",
    "\"\"\""
   ]
  },
  {
   "cell_type": "code",
   "execution_count": 54,
   "metadata": {},
   "outputs": [],
   "source": [
    "mc_monthtime['temperature'] = pd.DataFrame(Temperature)"
   ]
  },
  {
   "cell_type": "code",
   "execution_count": null,
   "metadata": {},
   "outputs": [],
   "source": [
    "\"\"\"\n",
    "Can see big differences between \n",
    "\"\"\""
   ]
  },
  {
   "cell_type": "code",
   "execution_count": 57,
   "metadata": {},
   "outputs": [],
   "source": [
    "#Is it correlated to the temperature ? \n",
    "#Took average degrees from this site: https://www.climatsetvoyages.com/climat/etats-unis/chicago\n",
    "Temperature = {'Temperature':[-4.6,-2.4,3.2,9.4,15.1,20.5,23.3,22.4,18.1,11.4,4.6,-2.3]}\n",
    "mc_monthtime['temperature'] = pd.DataFrame(Temperature)"
   ]
  },
  {
   "cell_type": "code",
   "execution_count": 59,
   "metadata": {},
   "outputs": [
    {
     "data": {
      "text/html": [
       "<div>\n",
       "<style scoped>\n",
       "    .dataframe tbody tr th:only-of-type {\n",
       "        vertical-align: middle;\n",
       "    }\n",
       "\n",
       "    .dataframe tbody tr th {\n",
       "        vertical-align: top;\n",
       "    }\n",
       "\n",
       "    .dataframe thead th {\n",
       "        text-align: right;\n",
       "    }\n",
       "</style>\n",
       "<table border=\"1\" class=\"dataframe\">\n",
       "  <thead>\n",
       "    <tr style=\"text-align: right;\">\n",
       "      <th></th>\n",
       "      <th>month</th>\n",
       "      <th>member</th>\n",
       "      <th>member_time</th>\n",
       "      <th>casual</th>\n",
       "      <th>casual_time</th>\n",
       "      <th>temperature</th>\n",
       "    </tr>\n",
       "  </thead>\n",
       "  <tbody>\n",
       "    <tr>\n",
       "      <th>0</th>\n",
       "      <td>1</td>\n",
       "      <td>48940</td>\n",
       "      <td>15</td>\n",
       "      <td>12373</td>\n",
       "      <td>22</td>\n",
       "      <td>-4.6</td>\n",
       "    </tr>\n",
       "    <tr>\n",
       "      <th>1</th>\n",
       "      <td>2</td>\n",
       "      <td>26655</td>\n",
       "      <td>16</td>\n",
       "      <td>7616</td>\n",
       "      <td>28</td>\n",
       "      <td>-2.4</td>\n",
       "    </tr>\n",
       "    <tr>\n",
       "      <th>2</th>\n",
       "      <td>3</td>\n",
       "      <td>97821</td>\n",
       "      <td>16</td>\n",
       "      <td>68058</td>\n",
       "      <td>31</td>\n",
       "      <td>3.2</td>\n",
       "    </tr>\n",
       "    <tr>\n",
       "      <th>3</th>\n",
       "      <td>4</td>\n",
       "      <td>50531</td>\n",
       "      <td>19</td>\n",
       "      <td>22129</td>\n",
       "      <td>35</td>\n",
       "      <td>9.4</td>\n",
       "    </tr>\n",
       "    <tr>\n",
       "      <th>4</th>\n",
       "      <td>5</td>\n",
       "      <td>96785</td>\n",
       "      <td>21</td>\n",
       "      <td>81430</td>\n",
       "      <td>39</td>\n",
       "      <td>15.1</td>\n",
       "    </tr>\n",
       "  </tbody>\n",
       "</table>\n",
       "</div>"
      ],
      "text/plain": [
       "   month  member  member_time  casual  casual_time  temperature\n",
       "0      1   48940           15   12373           22         -4.6\n",
       "1      2   26655           16    7616           28         -2.4\n",
       "2      3   97821           16   68058           31          3.2\n",
       "3      4   50531           19   22129           35          9.4\n",
       "4      5   96785           21   81430           39         15.1"
      ]
     },
     "execution_count": 59,
     "metadata": {},
     "output_type": "execute_result"
    }
   ],
   "source": [
    "mc_monthtime['temperature'] = pd.DataFrame(Temperature)\n",
    "mc_monthtime.head()"
   ]
  },
  {
   "cell_type": "code",
   "execution_count": 73,
   "metadata": {},
   "outputs": [
    {
     "data": {
      "text/plain": [
       "Text(32.09375, 0.5, 'User amount and time')"
      ]
     },
     "execution_count": 73,
     "metadata": {},
     "output_type": "execute_result"
    },
    {
     "data": {
      "image/png": "[encoded data removed]",
      "text/plain": [
       "<Figure size 432x288 with 2 Axes>"
      ]
     },
     "metadata": {
      "needs_background": "light"
     },
     "output_type": "display_data"
    }
   ],
   "source": [
    "correlated_matrix = mc_monthtime.corr(method='pearson')\n",
    "sns.heatmap(correlated_matrix, annot=True)\n",
    "\n",
    "plt.title('Correlation between temperature and time')\n",
    "\n",
    "plt.xlabel('User amount and time')\n",
    "\n",
    "plt.ylabel('User amount and time')"
   ]
  },
  {
   "cell_type": "code",
   "execution_count": 72,
   "metadata": {},
   "outputs": [
    {
     "data": {
      "text/plain": [
       "\"\\nVery big correlation at 0.86 for the member and 0.89 for the casual, then the time spent outside with the casual is correlated at 83 % with the temperature, which is also highly correlated\\nWe can't be sure that the temperature is a decisive factor, but it gives us some insights and further analysis may confirm that a better temperature can increase the amount of riders and their time\\n\""
      ]
     },
     "execution_count": 72,
     "metadata": {},
     "output_type": "execute_result"
    }
   ],
   "source": [
    "\"\"\"\n",
    "Very big correlation at 0.86 for the member and 0.89 for the casual, then the time spent outside with the casual is correlated at 83 % with the temperature, which is also highly correlated\n",
    "We can't be sure that the temperature is a decisive factor, but it gives us some insights and further analysis may confirm that a better temperature can increase the amount of riders and their time\n",
    "\"\"\""
   ]
  },
  {
   "cell_type": "code",
   "execution_count": null,
   "metadata": {},
   "outputs": [],
   "source": [
    "\"\"\"\n",
    "As a summary:\n",
    "There are more members than casuals\n",
    "Casuals number is very spreaded across the year, most of them rides in summer\n",
    "Week end are very popular among casual\n",
    "Members are also spreaded across the year, but members tend to be more less spread. \n",
    "\n",
    "Casuals can be:\n",
    "People who want to enjoy the city on bike \n",
    "Tourist that buy a pass for a short moment (less than 1 day)\n",
    "\n",
    "Members are people who use more the bike on a daily basis but they spend less time than casual, especially on week end\n",
    "\"\"\""
   ]
  }
 ],
 "metadata": {
  "kernelspec": {
   "display_name": "Python 3",
   "language": "python",
   "name": "python3"
  },
  "language_info": {
   "codemirror_mode": {
    "name": "ipython",
    "version": 3
   },
   "file_extension": ".py",
   "mimetype": "text/x-python",
   "name": "python",
   "nbconvert_exporter": "python",
   "pygments_lexer": "ipython3",
   "version": "3.8.5"
  }
 },
 "nbformat": 4,
 "nbformat_minor": 4
}
